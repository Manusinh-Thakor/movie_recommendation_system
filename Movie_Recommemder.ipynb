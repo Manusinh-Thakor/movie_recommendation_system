{
 "cells": [
  {
   "cell_type": "code",
   "execution_count": 1,
   "id": "24af3a6d-6b4b-4240-b675-05de75669cb2",
   "metadata": {},
   "outputs": [],
   "source": [
    "import pandas as pd\n",
    "import numpy as np"
   ]
  },
  {
   "cell_type": "code",
   "execution_count": 2,
   "id": "4d35673c-725c-4b7c-ab97-b9a209b6c142",
   "metadata": {},
   "outputs": [],
   "source": [
    "import warnings\n",
    "warnings.filterwarnings(\"ignore\")"
   ]
  },
  {
   "cell_type": "code",
   "execution_count": 3,
   "id": "49da147f-eb6a-4e7c-a3b7-54bc9c909311",
   "metadata": {},
   "outputs": [],
   "source": [
    "df_movies=pd.read_csv(\"tmdb_5000_movies.csv\")\n",
    "df_credits=pd.read_csv(\"tmdb_5000_credits.csv\")"
   ]
  },
  {
   "cell_type": "code",
   "execution_count": 4,
   "id": "375157cc-af1b-4aef-9834-619294c50001",
   "metadata": {},
   "outputs": [
    {
     "data": {
      "text/html": [
       "<div>\n",
       "<style scoped>\n",
       "    .dataframe tbody tr th:only-of-type {\n",
       "        vertical-align: middle;\n",
       "    }\n",
       "\n",
       "    .dataframe tbody tr th {\n",
       "        vertical-align: top;\n",
       "    }\n",
       "\n",
       "    .dataframe thead th {\n",
       "        text-align: right;\n",
       "    }\n",
       "</style>\n",
       "<table border=\"1\" class=\"dataframe\">\n",
       "  <thead>\n",
       "    <tr style=\"text-align: right;\">\n",
       "      <th></th>\n",
       "      <th>budget</th>\n",
       "      <th>genres</th>\n",
       "      <th>homepage</th>\n",
       "      <th>id</th>\n",
       "      <th>keywords</th>\n",
       "      <th>original_language</th>\n",
       "      <th>original_title</th>\n",
       "      <th>overview</th>\n",
       "      <th>popularity</th>\n",
       "      <th>production_companies</th>\n",
       "      <th>...</th>\n",
       "      <th>runtime</th>\n",
       "      <th>spoken_languages</th>\n",
       "      <th>status</th>\n",
       "      <th>tagline</th>\n",
       "      <th>title</th>\n",
       "      <th>vote_average</th>\n",
       "      <th>vote_count</th>\n",
       "      <th>movie_id</th>\n",
       "      <th>cast</th>\n",
       "      <th>crew</th>\n",
       "    </tr>\n",
       "  </thead>\n",
       "  <tbody>\n",
       "    <tr>\n",
       "      <th>0</th>\n",
       "      <td>237000000</td>\n",
       "      <td>[{\"id\": 28, \"name\": \"Action\"}, {\"id\": 12, \"nam...</td>\n",
       "      <td>http://www.avatarmovie.com/</td>\n",
       "      <td>19995</td>\n",
       "      <td>[{\"id\": 1463, \"name\": \"culture clash\"}, {\"id\":...</td>\n",
       "      <td>en</td>\n",
       "      <td>Avatar</td>\n",
       "      <td>In the 22nd century, a paraplegic Marine is di...</td>\n",
       "      <td>150.437577</td>\n",
       "      <td>[{\"name\": \"Ingenious Film Partners\", \"id\": 289...</td>\n",
       "      <td>...</td>\n",
       "      <td>162.0</td>\n",
       "      <td>[{\"iso_639_1\": \"en\", \"name\": \"English\"}, {\"iso...</td>\n",
       "      <td>Released</td>\n",
       "      <td>Enter the World of Pandora.</td>\n",
       "      <td>Avatar</td>\n",
       "      <td>7.2</td>\n",
       "      <td>11800</td>\n",
       "      <td>19995</td>\n",
       "      <td>[{\"cast_id\": 242, \"character\": \"Jake Sully\", \"...</td>\n",
       "      <td>[{\"credit_id\": \"52fe48009251416c750aca23\", \"de...</td>\n",
       "    </tr>\n",
       "  </tbody>\n",
       "</table>\n",
       "<p>1 rows × 23 columns</p>\n",
       "</div>"
      ],
      "text/plain": [
       "      budget                                             genres  \\\n",
       "0  237000000  [{\"id\": 28, \"name\": \"Action\"}, {\"id\": 12, \"nam...   \n",
       "\n",
       "                      homepage     id  \\\n",
       "0  http://www.avatarmovie.com/  19995   \n",
       "\n",
       "                                            keywords original_language  \\\n",
       "0  [{\"id\": 1463, \"name\": \"culture clash\"}, {\"id\":...                en   \n",
       "\n",
       "  original_title                                           overview  \\\n",
       "0         Avatar  In the 22nd century, a paraplegic Marine is di...   \n",
       "\n",
       "   popularity                               production_companies  ... runtime  \\\n",
       "0  150.437577  [{\"name\": \"Ingenious Film Partners\", \"id\": 289...  ...   162.0   \n",
       "\n",
       "                                    spoken_languages    status  \\\n",
       "0  [{\"iso_639_1\": \"en\", \"name\": \"English\"}, {\"iso...  Released   \n",
       "\n",
       "                       tagline   title vote_average vote_count movie_id  \\\n",
       "0  Enter the World of Pandora.  Avatar          7.2      11800    19995   \n",
       "\n",
       "                                                cast  \\\n",
       "0  [{\"cast_id\": 242, \"character\": \"Jake Sully\", \"...   \n",
       "\n",
       "                                                crew  \n",
       "0  [{\"credit_id\": \"52fe48009251416c750aca23\", \"de...  \n",
       "\n",
       "[1 rows x 23 columns]"
      ]
     },
     "execution_count": 4,
     "metadata": {},
     "output_type": "execute_result"
    }
   ],
   "source": [
    "df_movies = df_movies.merge(df_credits,on=\"title\")\n",
    "df_movies.head(1)"
   ]
  },
  {
   "cell_type": "code",
   "execution_count": 5,
   "id": "fa26384e-0cb9-459d-9e95-2fe393617d66",
   "metadata": {},
   "outputs": [
    {
     "data": {
      "text/plain": [
       "'http://www.avatarmovie.com/'"
      ]
     },
     "execution_count": 5,
     "metadata": {},
     "output_type": "execute_result"
    }
   ],
   "source": [
    "df_movies.homepage[0]"
   ]
  },
  {
   "cell_type": "code",
   "execution_count": 6,
   "id": "14f500bf-0909-4aee-9728-8a6791947a95",
   "metadata": {},
   "outputs": [
    {
     "data": {
      "text/html": [
       "<div>\n",
       "<style scoped>\n",
       "    .dataframe tbody tr th:only-of-type {\n",
       "        vertical-align: middle;\n",
       "    }\n",
       "\n",
       "    .dataframe tbody tr th {\n",
       "        vertical-align: top;\n",
       "    }\n",
       "\n",
       "    .dataframe thead th {\n",
       "        text-align: right;\n",
       "    }\n",
       "</style>\n",
       "<table border=\"1\" class=\"dataframe\">\n",
       "  <thead>\n",
       "    <tr style=\"text-align: right;\">\n",
       "      <th></th>\n",
       "      <th>genres</th>\n",
       "      <th>overview</th>\n",
       "      <th>title</th>\n",
       "      <th>keywords</th>\n",
       "      <th>cast</th>\n",
       "      <th>crew</th>\n",
       "      <th>id</th>\n",
       "    </tr>\n",
       "  </thead>\n",
       "  <tbody>\n",
       "    <tr>\n",
       "      <th>0</th>\n",
       "      <td>[{\"id\": 28, \"name\": \"Action\"}, {\"id\": 12, \"nam...</td>\n",
       "      <td>In the 22nd century, a paraplegic Marine is di...</td>\n",
       "      <td>Avatar</td>\n",
       "      <td>[{\"id\": 1463, \"name\": \"culture clash\"}, {\"id\":...</td>\n",
       "      <td>[{\"cast_id\": 242, \"character\": \"Jake Sully\", \"...</td>\n",
       "      <td>[{\"credit_id\": \"52fe48009251416c750aca23\", \"de...</td>\n",
       "      <td>19995</td>\n",
       "    </tr>\n",
       "    <tr>\n",
       "      <th>1</th>\n",
       "      <td>[{\"id\": 12, \"name\": \"Adventure\"}, {\"id\": 14, \"...</td>\n",
       "      <td>Captain Barbossa, long believed to be dead, ha...</td>\n",
       "      <td>Pirates of the Caribbean: At World's End</td>\n",
       "      <td>[{\"id\": 270, \"name\": \"ocean\"}, {\"id\": 726, \"na...</td>\n",
       "      <td>[{\"cast_id\": 4, \"character\": \"Captain Jack Spa...</td>\n",
       "      <td>[{\"credit_id\": \"52fe4232c3a36847f800b579\", \"de...</td>\n",
       "      <td>285</td>\n",
       "    </tr>\n",
       "    <tr>\n",
       "      <th>2</th>\n",
       "      <td>[{\"id\": 28, \"name\": \"Action\"}, {\"id\": 12, \"nam...</td>\n",
       "      <td>A cryptic message from Bond’s past sends him o...</td>\n",
       "      <td>Spectre</td>\n",
       "      <td>[{\"id\": 470, \"name\": \"spy\"}, {\"id\": 818, \"name...</td>\n",
       "      <td>[{\"cast_id\": 1, \"character\": \"James Bond\", \"cr...</td>\n",
       "      <td>[{\"credit_id\": \"54805967c3a36829b5002c41\", \"de...</td>\n",
       "      <td>206647</td>\n",
       "    </tr>\n",
       "    <tr>\n",
       "      <th>3</th>\n",
       "      <td>[{\"id\": 28, \"name\": \"Action\"}, {\"id\": 80, \"nam...</td>\n",
       "      <td>Following the death of District Attorney Harve...</td>\n",
       "      <td>The Dark Knight Rises</td>\n",
       "      <td>[{\"id\": 849, \"name\": \"dc comics\"}, {\"id\": 853,...</td>\n",
       "      <td>[{\"cast_id\": 2, \"character\": \"Bruce Wayne / Ba...</td>\n",
       "      <td>[{\"credit_id\": \"52fe4781c3a36847f81398c3\", \"de...</td>\n",
       "      <td>49026</td>\n",
       "    </tr>\n",
       "    <tr>\n",
       "      <th>4</th>\n",
       "      <td>[{\"id\": 28, \"name\": \"Action\"}, {\"id\": 12, \"nam...</td>\n",
       "      <td>John Carter is a war-weary, former military ca...</td>\n",
       "      <td>John Carter</td>\n",
       "      <td>[{\"id\": 818, \"name\": \"based on novel\"}, {\"id\":...</td>\n",
       "      <td>[{\"cast_id\": 5, \"character\": \"John Carter\", \"c...</td>\n",
       "      <td>[{\"credit_id\": \"52fe479ac3a36847f813eaa3\", \"de...</td>\n",
       "      <td>49529</td>\n",
       "    </tr>\n",
       "  </tbody>\n",
       "</table>\n",
       "</div>"
      ],
      "text/plain": [
       "                                              genres  \\\n",
       "0  [{\"id\": 28, \"name\": \"Action\"}, {\"id\": 12, \"nam...   \n",
       "1  [{\"id\": 12, \"name\": \"Adventure\"}, {\"id\": 14, \"...   \n",
       "2  [{\"id\": 28, \"name\": \"Action\"}, {\"id\": 12, \"nam...   \n",
       "3  [{\"id\": 28, \"name\": \"Action\"}, {\"id\": 80, \"nam...   \n",
       "4  [{\"id\": 28, \"name\": \"Action\"}, {\"id\": 12, \"nam...   \n",
       "\n",
       "                                            overview  \\\n",
       "0  In the 22nd century, a paraplegic Marine is di...   \n",
       "1  Captain Barbossa, long believed to be dead, ha...   \n",
       "2  A cryptic message from Bond’s past sends him o...   \n",
       "3  Following the death of District Attorney Harve...   \n",
       "4  John Carter is a war-weary, former military ca...   \n",
       "\n",
       "                                      title  \\\n",
       "0                                    Avatar   \n",
       "1  Pirates of the Caribbean: At World's End   \n",
       "2                                   Spectre   \n",
       "3                     The Dark Knight Rises   \n",
       "4                               John Carter   \n",
       "\n",
       "                                            keywords  \\\n",
       "0  [{\"id\": 1463, \"name\": \"culture clash\"}, {\"id\":...   \n",
       "1  [{\"id\": 270, \"name\": \"ocean\"}, {\"id\": 726, \"na...   \n",
       "2  [{\"id\": 470, \"name\": \"spy\"}, {\"id\": 818, \"name...   \n",
       "3  [{\"id\": 849, \"name\": \"dc comics\"}, {\"id\": 853,...   \n",
       "4  [{\"id\": 818, \"name\": \"based on novel\"}, {\"id\":...   \n",
       "\n",
       "                                                cast  \\\n",
       "0  [{\"cast_id\": 242, \"character\": \"Jake Sully\", \"...   \n",
       "1  [{\"cast_id\": 4, \"character\": \"Captain Jack Spa...   \n",
       "2  [{\"cast_id\": 1, \"character\": \"James Bond\", \"cr...   \n",
       "3  [{\"cast_id\": 2, \"character\": \"Bruce Wayne / Ba...   \n",
       "4  [{\"cast_id\": 5, \"character\": \"John Carter\", \"c...   \n",
       "\n",
       "                                                crew      id  \n",
       "0  [{\"credit_id\": \"52fe48009251416c750aca23\", \"de...   19995  \n",
       "1  [{\"credit_id\": \"52fe4232c3a36847f800b579\", \"de...     285  \n",
       "2  [{\"credit_id\": \"54805967c3a36829b5002c41\", \"de...  206647  \n",
       "3  [{\"credit_id\": \"52fe4781c3a36847f81398c3\", \"de...   49026  \n",
       "4  [{\"credit_id\": \"52fe479ac3a36847f813eaa3\", \"de...   49529  "
      ]
     },
     "execution_count": 6,
     "metadata": {},
     "output_type": "execute_result"
    }
   ],
   "source": [
    "df_movies2 = df_movies[[\"genres\",\"overview\",\"title\",\"keywords\",\"cast\",\"crew\",\"id\"]]\n",
    "df_movies2.dropna(inplace=True)\n",
    "df_movies2.head()"
   ]
  },
  {
   "cell_type": "code",
   "execution_count": 7,
   "id": "155df853-814d-40f0-9033-5670d9e1df06",
   "metadata": {},
   "outputs": [],
   "source": [
    "import ast\n",
    "def convert_data(obj):\n",
    "    data = []\n",
    "    \n",
    "    new_obj = ast.literal_eval(obj)\n",
    "    for i in new_obj:\n",
    "        data.append(i[\"name\"])\n",
    "        \n",
    "    return data\n"
   ]
  },
  {
   "cell_type": "code",
   "execution_count": 8,
   "id": "c2c683fa-17d1-41e5-884f-f768bb6a6975",
   "metadata": {},
   "outputs": [
    {
     "data": {
      "text/plain": [
       "['James Cameron']"
      ]
     },
     "execution_count": 8,
     "metadata": {},
     "output_type": "execute_result"
    }
   ],
   "source": [
    "def convert_data2(obj):\n",
    "    new_obj = ast.literal_eval(obj)\n",
    "    new_list = []\n",
    "    for i in new_obj:\n",
    "        if i[\"job\"] == \"Director\":\n",
    "            new_list.append(i[\"name\"])\n",
    "            return new_list\n",
    "        \n",
    "convert_data2(df_movies2[\"crew\"][0])"
   ]
  },
  {
   "cell_type": "code",
   "execution_count": 9,
   "id": "f2cc1280-e8f1-4546-8e80-4bf37c0b31ee",
   "metadata": {},
   "outputs": [],
   "source": [
    "df_movies2[\"genres\"] = df_movies2[\"genres\"].apply(convert_data)\n",
    "df_movies2[\"cast\"] = df_movies2[\"cast\"].apply(convert_data)\n",
    "df_movies2[\"keywords\"] = df_movies2[\"keywords\"].apply(convert_data)\n",
    "df_movies2[\"crew\"] = df_movies2[\"crew\"].apply(convert_data2)\n",
    "df_movies2[\"cast\"] = df_movies2[\"cast\"].apply(lambda x: x[:3])"
   ]
  },
  {
   "cell_type": "code",
   "execution_count": 10,
   "id": "4f1913d3-008b-458d-9c54-ce0b40434df7",
   "metadata": {},
   "outputs": [],
   "source": [
    "df_movies2[\"overview\"] = df_movies2[\"overview\"].apply(lambda x:x.split())"
   ]
  },
  {
   "cell_type": "code",
   "execution_count": 11,
   "id": "7eb05d6e-eecf-44b8-8a66-8c01efa7e8cd",
   "metadata": {},
   "outputs": [],
   "source": [
    "df_movies2[\"genres\"] = df_movies2[\"genres\"].apply(lambda x: [i.replace(\" \", \"\") for i in x])"
   ]
  },
  {
   "cell_type": "code",
   "execution_count": 12,
   "id": "2dfdbe23-952c-4194-9f3a-b938834da3c9",
   "metadata": {},
   "outputs": [
    {
     "data": {
      "text/plain": [
       "genres      0\n",
       "overview    0\n",
       "title       0\n",
       "keywords    0\n",
       "cast        0\n",
       "crew        0\n",
       "id          0\n",
       "dtype: int64"
      ]
     },
     "execution_count": 12,
     "metadata": {},
     "output_type": "execute_result"
    }
   ],
   "source": [
    "df_movies2.dropna(inplace=True)\n",
    "df_movies2.isnull().sum()"
   ]
  },
  {
   "cell_type": "code",
   "execution_count": 13,
   "id": "edab9fef-aa6a-4bd6-b4fc-d94bec131b4f",
   "metadata": {},
   "outputs": [],
   "source": [
    "df_movies2[\"keywords\"] = df_movies2[\"keywords\"].apply(lambda x: [i.replace(\" \", \"\") for i in x])\n",
    "df_movies2[\"cast\"] = df_movies2[\"cast\"].apply(lambda x: [i.replace(\" \", \"\") for i in x])\n",
    "df_movies2[\"crew\"] = df_movies2[\"crew\"].apply(lambda x: [i.replace(\" \", \"\") for i in x])"
   ]
  },
  {
   "cell_type": "code",
   "execution_count": 14,
   "id": "f71769ac-34fb-44d6-af12-6431c686e010",
   "metadata": {},
   "outputs": [],
   "source": [
    "final_df = df_movies2[[\"title\",\"id\"]]"
   ]
  },
  {
   "cell_type": "code",
   "execution_count": 15,
   "id": "cc30d886-1f5c-4784-952f-81344605fe31",
   "metadata": {},
   "outputs": [],
   "source": [
    "final_df[\"tags\"]=df_movies2[\"overview\"] + df_movies2[\"keywords\"] + df_movies2[\"cast\"] + df_movies2[\"crew\"] "
   ]
  },
  {
   "cell_type": "code",
   "execution_count": 16,
   "id": "c20f8b85-c486-448c-b98e-f1e27b46db8b",
   "metadata": {},
   "outputs": [],
   "source": [
    "final_df[\"tags\"] = final_df[\"tags\"].apply(lambda x: \" \".join(x))"
   ]
  },
  {
   "cell_type": "code",
   "execution_count": 17,
   "id": "48bb0470-2610-4e67-8411-f121af063b9a",
   "metadata": {},
   "outputs": [],
   "source": [
    "from sklearn.feature_extraction.text import CountVectorizer\n",
    "cv = CountVectorizer(max_features=5000,stop_words=\"english\")"
   ]
  },
  {
   "cell_type": "code",
   "execution_count": 19,
   "id": "3919d246-fa0e-462b-a06e-bb2d85b18c3b",
   "metadata": {},
   "outputs": [],
   "source": [
    "final_df.to_csv('finaldf.csv', index=False)"
   ]
  },
  {
   "cell_type": "code",
   "execution_count": 20,
   "id": "d3c44766-b990-46f1-a0db-71acb7c5d78e",
   "metadata": {},
   "outputs": [],
   "source": [
    "vectors = cv.fit_transform(final_df[\"tags\"]).toarray()"
   ]
  },
  {
   "cell_type": "code",
   "execution_count": 24,
   "id": "06d43474-618c-4757-b66b-8763e962143d",
   "metadata": {},
   "outputs": [
    {
     "data": {
      "text/plain": [
       "(4776, 5000)"
      ]
     },
     "execution_count": 24,
     "metadata": {},
     "output_type": "execute_result"
    }
   ],
   "source": [
    "vectors.shape"
   ]
  },
  {
   "cell_type": "code",
   "execution_count": 21,
   "id": "841d4479-760c-4b05-96e8-d790fd7a3f01",
   "metadata": {},
   "outputs": [],
   "source": [
    "from sklearn.metrics.pairwise import cosine_similarity\n",
    "similiarity = cosine_similarity(vectors)"
   ]
  },
  {
   "cell_type": "code",
   "execution_count": 25,
   "id": "d89e3fc6-d516-430c-ab67-f226141716ed",
   "metadata": {},
   "outputs": [
    {
     "data": {
      "text/plain": [
       "(4776, 4776)"
      ]
     },
     "execution_count": 25,
     "metadata": {},
     "output_type": "execute_result"
    }
   ],
   "source": [
    "similiarity.shape"
   ]
  },
  {
   "cell_type": "code",
   "execution_count": 27,
   "id": "a469ec14-0ab2-4388-a621-7c3b64d2566e",
   "metadata": {},
   "outputs": [
    {
     "name": "stdout",
     "output_type": "stream",
     "text": [
      "Similarity matrix saved to 'similarity_matrix.pkl'\n"
     ]
    }
   ],
   "source": [
    "import numpy as np\n",
    "import pickle\n",
    "from sklearn.metrics.pairwise import cosine_similarity\n",
    "\n",
    "# Save the similarity matrix to a .pkl file\n",
    "with open(\"similarity_matrix4.pkl\", \"wb\") as file:\n",
    "    pickle.dump(similiarity, file)\n",
    "\n",
    "print(\"Similarity matrix saved to 'similarity_matrix.pkl'\")"
   ]
  },
  {
   "cell_type": "code",
   "execution_count": 23,
   "id": "93062fcd-323b-49d6-840a-0637b9440cf2",
   "metadata": {},
   "outputs": [],
   "source": [
    "def recommend(movie):\n",
    "    recommed_movies = []\n",
    "    movie_id = final_df.index[final_df['title'] == movie].tolist()[0]\n",
    "    movie_sim = similiarity[movie_id]\n",
    "    #sorted_numbers = sorted(movie_sim, reverse=True)\n",
    "    sorted_numbers_with_indices = sorted(enumerate(movie_sim), key=lambda x: x[1], reverse=True)\n",
    "\n",
    "    # Extract the sorted values and their corresponding indices\n",
    "    sorted_indices = [index for index, value in sorted_numbers_with_indices][1:6]\n",
    "    sorted_values = [value for index, value in sorted_numbers_with_indices][1:6]\n",
    "    \n",
    "    #print(sorted_indices,sorted_values)\n",
    "\n",
    "    for i in sorted_indices:\n",
    "        recommed_movies.append(final_df[\"title\"][i])\n",
    "\n",
    "    return recommed_movies"
   ]
  },
  {
   "cell_type": "code",
   "execution_count": 30,
   "id": "d3b5c1ca-95ed-4ed6-a7b9-f7abae7e42cd",
   "metadata": {},
   "outputs": [
    {
     "data": {
      "text/plain": [
       "['Never Say Never Again',\n",
       " 'Quantum of Solace',\n",
       " 'Skyfall',\n",
       " 'Safe Haven',\n",
       " 'Fiddler on the Roof']"
      ]
     },
     "execution_count": 30,
     "metadata": {},
     "output_type": "execute_result"
    }
   ],
   "source": [
    "recommend(\"Spectre\")"
   ]
  },
  {
   "cell_type": "code",
   "execution_count": null,
   "id": "3d2b7775-eeb0-4d1f-b561-6b0af5b3b33e",
   "metadata": {},
   "outputs": [],
   "source": []
  },
  {
   "cell_type": "code",
   "execution_count": null,
   "id": "0d197575-3f07-4238-8b68-79a3f73d7f06",
   "metadata": {},
   "outputs": [],
   "source": []
  },
  {
   "cell_type": "code",
   "execution_count": null,
   "id": "06d80e50-db53-43ce-92b0-2e8b1fac37a6",
   "metadata": {},
   "outputs": [],
   "source": []
  },
  {
   "cell_type": "code",
   "execution_count": 1,
   "id": "19114f22-7461-4252-822e-dabca288edb6",
   "metadata": {},
   "outputs": [],
   "source": [
    "from flask import Flask, render_template, request\n",
    "import requests\n",
    "\n",
    "app = Flask(__name__)"
   ]
  },
  {
   "cell_type": "code",
   "execution_count": 2,
   "id": "8d68ea38-b6eb-4eb0-adc4-10dba45b2b16",
   "metadata": {},
   "outputs": [],
   "source": [
    "# Example function to get movie poster and recommendations (mocked)\n",
    "def get_movie_data(movie_name):\n",
    "    # Mock data for demonstration\n",
    "    # In a real application, replace this with API calls or a database query\n",
    "    movie_data = {\n",
    "        'The Matrix': {\n",
    "            'poster': 'https://upload.wikimedia.org/wikipedia/en/b/ba/Poster_-_The_Matrix_Reloaded.jpg',\n",
    "            'recommendations': [\n",
    "                'Inception',\n",
    "                'The Terminator',\n",
    "                'Blade Runner',\n",
    "                'Total Recall',\n",
    "                'Dark City'\n",
    "            ]\n",
    "        },\n",
    "        'Inception': {\n",
    "            'poster': 'https://example.com/inception-poster.jpg',\n",
    "            'recommendations': [\n",
    "                'Interstellar',\n",
    "                'Memento',\n",
    "                'Shutter Island',\n",
    "                'The Prestige',\n",
    "                'The Matrix'\n",
    "            ]\n",
    "        }\n",
    "        # Add more movies and their data as needed\n",
    "    }\n",
    "    return movie_data.get(movie_name, {'poster': None, 'recommendations': []})"
   ]
  },
  {
   "cell_type": "code",
   "execution_count": 3,
   "id": "8e55dc8d-3b10-46e2-af82-ca65665409c8",
   "metadata": {},
   "outputs": [],
   "source": [
    "@app.route('/', methods=['GET', 'POST'])\n",
    "def index():\n",
    "    main_movie_poster = None\n",
    "    recommended_posters = []\n",
    "\n",
    "    if request.method == 'POST':\n",
    "        movie_name = request.form.get('movie_name')\n",
    "        if movie_name:\n",
    "            movie_data = get_movie_data(movie_name)\n",
    "            main_movie_poster = movie_data['poster']\n",
    "            recommendations = movie_data['recommendations']\n",
    "\n",
    "            # Fetch posters for recommended movies\n",
    "            recommended_posters = [get_movie_data(movie)['poster'] for movie in recommendations]\n",
    "\n",
    "    return render_template('index.html', main_movie_poster=main_movie_poster, recommended_posters=recommended_posters)"
   ]
  },
  {
   "cell_type": "code",
   "execution_count": 5,
   "id": "dbfa903e-9a75-4084-aa6e-38136838d9fe",
   "metadata": {},
   "outputs": [
    {
     "name": "stdout",
     "output_type": "stream",
     "text": [
      " * Serving Flask app '__main__'\n",
      " * Debug mode: on\n"
     ]
    },
    {
     "name": "stderr",
     "output_type": "stream",
     "text": [
      "WARNING: This is a development server. Do not use it in a production deployment. Use a production WSGI server instead.\n",
      " * Running on all addresses (0.0.0.0)\n",
      " * Running on http://127.0.0.1:5000\n",
      " * Running on http://172.20.10.4:5000\n",
      "Press CTRL+C to quit\n",
      " * Restarting with stat\n"
     ]
    },
    {
     "ename": "SystemExit",
     "evalue": "1",
     "output_type": "error",
     "traceback": [
      "An exception has occurred, use %tb to see the full traceback.\n",
      "\u001b[1;31mSystemExit\u001b[0m\u001b[1;31m:\u001b[0m 1\n"
     ]
    }
   ],
   "source": [
    "if __name__ == '__main__':\n",
    "    app.run(debug=True,host='0.0.0.0',port=5000) "
   ]
  },
  {
   "cell_type": "code",
   "execution_count": 2,
   "id": "55b30bdc-8a6a-45e2-874a-c3e62e7796df",
   "metadata": {},
   "outputs": [
    {
     "name": "stdout",
     "output_type": "stream",
     "text": [
      "{\"status_code\":7,\"status_message\":\"Invalid API key: You must be granted a valid key.\",\"success\":false}\n"
     ]
    },
    {
     "name": "stderr",
     "output_type": "stream",
     "text": [
      "  % Total    % Received % Xferd  Average Speed   Time    Time     Time  Current\n",
      "                                 Dload  Upload   Total   Spent    Left  Speed\n",
      "\n",
      "  0     0    0     0    0     0      0      0 --:--:-- --:--:-- --:--:--     0\n",
      "  0     0    0     0    0     0      0      0 --:--:--  0:00:01 --:--:--     0\n",
      "  0     0    0     0    0     0      0      0 --:--:--  0:00:01 --:--:--     0curl: (6) Could not resolve host: url\n",
      "  % Total    % Received % Xferd  Average Speed   Time    Time     Time  Current\n",
      "                                 Dload  Upload   Total   Spent    Left  Speed\n",
      "\n",
      "  0     0    0     0    0     0      0      0 --:--:-- --:--:-- --:--:--     0\n",
      "  0     0    0     0    0     0      0      0 --:--:-- --:--:-- --:--:--     0\n",
      "100   103    0   103    0     0     88      0 --:--:--  0:00:01 --:--:--    88\n",
      "  % Total    % Received % Xferd  Average Speed   Time    Time     Time  Current\n",
      "                                 Dload  Upload   Total   Spent    Left  Speed\n",
      "\n",
      "  0     0    0     0    0     0      0      0 --:--:-- --:--:-- --:--:--     0\n",
      "  0     0    0     0    0     0      0      0 --:--:-- --:--:-- --:--:--     0\n",
      "  0     0    0     0    0     0      0      0 --:--:--  0:00:01 --:--:--     0\n",
      "  0     0    0     0    0     0      0      0 --:--:--  0:00:02 --:--:--     0curl: (6) Could not resolve host: header\n",
      "curl: (3) URL rejected: Port number was not a decimal number between 0 and 65535\n",
      "  % Total    % Received % Xferd  Average Speed   Time    Time     Time  Current\n",
      "                                 Dload  Upload   Total   Spent    Left  Speed\n",
      "\n",
      "  0     0    0     0    0     0      0      0 --:--:-- --:--:-- --:--:--     0\n",
      "  0     0    0     0    0     0      0      0 --:--:-- --:--:-- --:--:--     0\n",
      "  0     0    0     0    0     0      0      0 --:--:--  0:00:01 --:--:--     0\n",
      "  0     0    0     0    0     0      0      0 --:--:--  0:00:02 --:--:--     0curl: (6) Could not resolve host: application\n"
     ]
    }
   ],
   "source": [
    "!curl --request GET url https://api.themoviedb.org/3/movie/19995/images header 'accept: application/json'"
   ]
  },
  {
   "cell_type": "code",
   "execution_count": 19,
   "id": "59ae303c-86fe-4dad-a8d5-d1614117761a",
   "metadata": {},
   "outputs": [
    {
     "name": "stdout",
     "output_type": "stream",
     "text": [
      "{\"backdrops\":[{\"aspect_ratio\":1.778,\"height\":2160,\"iso_639_1\":null,\"file_path\":\"/vL5LR6WdxWPjLPFRLe133jXWsh5.jpg\",\"vote_average\":6.512,\"vote_count\":36,\"width\":3840},{\"aspect_ratio\":1.778,\"height\":720,\"iso_639_1\":null,\"file_path\":\"/ruziOM4OlILvyrOdChvvFqy4Ggw.jpg\",\"vote_average\":5.322,\"vote_count\":5,\"width\":1280},{\"aspect_ratio\":1.778,\"height\":2160,\"iso_639_1\":null,\"file_path\":\"/tvaFREoQ7ssrPcwfz7Xbj2A7B2t.jpg\",\"vote_average\":5.318,\"vote_count\":3,\"width\":3840},{\"aspect_ratio\":1.778,\"height\":2160,\"iso_639_1\":\"en\",\"file_path\":\"/Antz70VlRI2yU3iwYxyYUknzfz9.jpg\",\"vote_average\":5.312,\"vote_count\":1,\"width\":3840},{\"aspect_ratio\":1.778,\"height\":2160,\"iso_639_1\":\"en\",\"file_path\":\"/ws8Rcopga4U9znbPaDZTY3LZLK3.jpg\",\"vote_average\":5.312,\"vote_count\":1,\"width\":3840},{\"aspect_ratio\":1.778,\"height\":2160,\"iso_639_1\":null,\"file_path\":\"/yXsY0j90fwbfK4QVAFuQxH5LQzn.jpg\",\"vote_average\":5.258,\"vote_count\":6,\"width\":3840},{\"aspect_ratio\":1.778,\"height\":2160,\"iso_639_1\":null,\"file_path\":\"/qCv5kKfYRAofZGxYCPWlIuE6jP5.jpg\",\"vote_average\":5.252,\"vote_count\":4,\"width\":3840},{\"aspect_ratio\":1.778,\"height\":1080,\"iso_639_1\":null,\"file_path\":\"/brYHUMl6o2VxJfyH9MWPziGzoQW.jpg\",\"vote_average\":5.246,\"vote_count\":2,\"width\":1920},{\"aspect_ratio\":1.778,\"height\":1080,\"iso_639_1\":null,\"file_path\":\"/55XziVCAYLOF0hAkpB01FtUF8fq.jpg\",\"vote_average\":5.246,\"vote_count\":2,\"width\":1920},{\"aspect_ratio\":1.778,\"height\":1080,\"iso_639_1\":null,\"file_path\":\"/3AOjItDNXMdnwyz5WTKUMSHWt1e.jpg\",\"vote_average\":5.246,\"vote_count\":2,\"width\":1920},{\"aspect_ratio\":1.778,\"height\":2160,\"iso_639_1\":null,\"file_path\":\"/iZvSazhTTS3VpYKMxLRcXovdzS6.jpg\",\"vote_average\":5.246,\"vote_count\":2,\"width\":3840},{\"aspect_ratio\":1.778,\"height\":2160,\"iso_639_1\":null,\"file_path\":\"/7JNzw1tSZZEgsBw6lu0VfO2X2Ef.jpg\",\"vote_average\":5.246,\"vote_count\":2,\"width\":3840},{\"aspect_ratio\":1.778,\"height\":2160,\"iso_639_1\":\"ko\",\"file_path\":\"/n3a93StkVsLVPiX7sX2HIVXe9Fc.jpg\",\"vote_average\":5.238,\"vote_count\":0,\"width\":3840},{\"aspect_ratio\":1.778,\"height\":2160,\"iso_639_1\":null,\"file_path\":\"/usXjm3T1iOUl4CZ3mCnFlWR8bi9.jpg\",\"vote_average\":5.206,\"vote_count\":9,\"width\":3840},{\"aspect_ratio\":1.778,\"height\":2160,\"iso_639_1\":\"en\",\"file_path\":\"/mYJkJ7YxJsUNI1nAOOUOpRN2auC.jpg\",\"vote_average\":5.19,\"vote_count\":5,\"width\":3840},{\"aspect_ratio\":1.778,\"height\":1080,\"iso_639_1\":\"en\",\"file_path\":\"/r0yofr8WB8c3AQiiGeDkvG19nLJ.jpg\",\"vote_average\":5.18,\"vote_count\":3,\"width\":1920},{\"aspect_ratio\":1.778,\"height\":2160,\"iso_639_1\":null,\"file_path\":\"/uvI7pMTzKrn2N783B00JTArKo7U.jpg\",\"vote_average\":5.18,\"vote_count\":3,\"width\":3840},{\"aspect_ratio\":1.778,\"height\":2160,\"iso_639_1\":null,\"file_path\":\"/nTQX4UL6DK59gxgWYgCWiENSxoD.jpg\",\"vote_average\":5.18,\"vote_count\":3,\"width\":3840},{\"aspect_ratio\":1.778,\"height\":2160,\"iso_639_1\":null,\"file_path\":\"/7ioKH8X19Q3nVZhoGSuXPWL5pGE.jpg\",\"vote_average\":5.18,\"vote_count\":3,\"width\":3840},{\"aspect_ratio\":1.778,\"height\":2160,\"iso_639_1\":null,\"file_path\":\"/c2OmCBARLIk2rsN8OTqyd5eXIxN.jpg\",\"vote_average\":5.18,\"vote_count\":3,\"width\":3840},{\"aspect_ratio\":1.778,\"height\":2160,\"iso_639_1\":null,\"file_path\":\"/njIrxDJ9qvndx5weMFb6eCX6uLV.jpg\",\"vote_average\":5.18,\"vote_count\":3,\"width\":3840},{\"aspect_ratio\":1.778,\"height\":1080,\"iso_639_1\":null,\"file_path\":\"/21lEEKARwCJthi4HGLwOv1wYPd3.jpg\",\"vote_average\":5.172,\"vote_count\":1,\"width\":1920},{\"aspect_ratio\":1.778,\"height\":2160,\"iso_639_1\":null,\"file_path\":\"/xNrjUBnw7uRHqccf8lbzgKd9Lum.jpg\",\"vote_average\":5.172,\"vote_count\":1,\"width\":3840},{\"aspect_ratio\":1.778,\"height\":2160,\"iso_639_1\":null,\"file_path\":\"/ueoGaBikJwYzyJviaEOVBAzjBpW.jpg\",\"vote_average\":5.172,\"vote_count\":1,\"width\":3840},{\"aspect_ratio\":1.778,\"height\":2160,\"iso_639_1\":null,\"file_path\":\"/Yc9q6QuWrMp9nuDm5R8ExNqbEq.jpg\",\"vote_average\":5.172,\"vote_count\":16,\"width\":3840},{\"aspect_ratio\":1.778,\"height\":1080,\"iso_639_1\":null,\"file_path\":\"/rrAUqkLQBkMMooJ1lnxUtiEVLMc.jpg\",\"vote_average\":5.172,\"vote_count\":1,\"width\":1920},{\"aspect_ratio\":1.778,\"height\":2160,\"iso_639_1\":\"en\",\"file_path\":\"/rYgV5h728P3NMYsxULtSoFS23SP.jpg\",\"vote_average\":5.172,\"vote_count\":1,\"width\":3840},{\"aspect_ratio\":1.778,\"height\":1440,\"iso_639_1\":null,\"file_path\":\"/8I37NtDffNV7AZlDa7uDvvqhovU.jpg\",\"vote_average\":5.164,\"vote_count\":14,\"width\":2560},{\"aspect_ratio\":1.778,\"height\":2160,\"iso_639_1\":null,\"file_path\":\"/7ABsaBkO1jA2psC8Hy4IDhkID4h.jpg\",\"vote_average\":5.164,\"vote_count\":14,\"width\":3840},{\"aspect_ratio\":1.778,\"height\":1080,\"iso_639_1\":null,\"file_path\":\"/jlQJDD0L5ZojjlS0KYnApdO0n19.jpg\",\"vote_average\":5.156,\"vote_count\":12,\"width\":1920},{\"aspect_ratio\":1.778,\"height\":2160,\"iso_639_1\":null,\"file_path\":\"/sfw4m2tOgQRzhF6VXxaXGfd1vX.jpg\",\"vote_average\":5.156,\"vote_count\":12,\"width\":3840},{\"aspect_ratio\":1.778,\"height\":2160,\"iso_639_1\":null,\"file_path\":\"/o0s4XsEDfDlvit5pDRKjzXR4pp2.jpg\",\"vote_average\":5.156,\"vote_count\":12,\"width\":3840},{\"aspect_ratio\":1.778,\"height\":1080,\"iso_639_1\":null,\"file_path\":\"/AmHOQ7rpHwiaUMRjKXztnauSJb7.jpg\",\"vote_average\":5.146,\"vote_count\":10,\"width\":1920},{\"aspect_ratio\":1.778,\"height\":1080,\"iso_639_1\":null,\"file_path\":\"/r8z2HRNFag56tGvaXBxEg6EgwoY.jpg\",\"vote_average\":5.138,\"vote_count\":8,\"width\":1920},{\"aspect_ratio\":1.778,\"height\":1080,\"iso_639_1\":null,\"file_path\":\"/2YLOjUiczXEgVZFDSIeH3iWB3Ub.jpg\",\"vote_average\":5.138,\"vote_count\":8,\"width\":1920},{\"aspect_ratio\":1.778,\"height\":2160,\"iso_639_1\":null,\"file_path\":\"/xMMrBziwJqrgjerqpNeQvwuwiUp.jpg\",\"vote_average\":5.138,\"vote_count\":8,\"width\":3840},{\"aspect_ratio\":1.778,\"height\":1080,\"iso_639_1\":\"en\",\"file_path\":\"/wcC7kCICL6x6zHUlUyNp9pWoqW1.jpg\",\"vote_average\":5.128,\"vote_count\":6,\"width\":1920},{\"aspect_ratio\":1.778,\"height\":1080,\"iso_639_1\":null,\"file_path\":\"/yvgZcsjoPOEa1Zi2QmflHN7vWC1.jpg\",\"vote_average\":5.118,\"vote_count\":4,\"width\":1920},{\"aspect_ratio\":1.778,\"height\":1080,\"iso_639_1\":null,\"file_path\":\"/9aOHPhg7ezyOoXQiMyg5lUD0OBA.jpg\",\"vote_average\":5.118,\"vote_count\":4,\"width\":1920},{\"aspect_ratio\":1.778,\"height\":2160,\"iso_639_1\":null,\"file_path\":\"/eD1C60oJXvA5uYVBx3k6lq2RMve.jpg\",\"vote_average\":5.118,\"vote_count\":4,\"width\":3840},{\"aspect_ratio\":1.778,\"height\":1080,\"iso_639_1\":\"en\",\"file_path\":\"/bIL7ENqh1egWTxN41sM2W42JqPc.jpg\",\"vote_average\":5.118,\"vote_count\":4,\"width\":1920},{\"aspect_ratio\":1.778,\"height\":2160,\"iso_639_1\":null,\"file_path\":\"/7fIiB5ARRZdge8HaaPasALEIp2p.jpg\",\"vote_average\":5.118,\"vote_count\":4,\"width\":3840},{\"aspect_ratio\":1.778,\"height\":2160,\"iso_639_1\":null,\"file_path\":\"/bDKhGOBGBh2oxcS2ZG5URAUdA7P.jpg\",\"vote_average\":5.118,\"vote_count\":4,\"width\":3840},{\"aspect_ratio\":1.778,\"height\":2160,\"iso_639_1\":null,\"file_path\":\"/3BhYo9HUBlQ5XY3unbuqc2HaeYn.jpg\",\"vote_average\":5.118,\"vote_count\":4,\"width\":3840},{\"aspect_ratio\":1.778,\"height\":1080,\"iso_639_1\":null,\"file_path\":\"/rlAVpKuupkcsZ2fYLRME5uXlV9a.jpg\",\"vote_average\":5.106,\"vote_count\":2,\"width\":1920},{\"aspect_ratio\":1.778,\"height\":1080,\"iso_639_1\":\"en\",\"file_path\":\"/lnruVIIORWgQO2FS7GZV65dFEOG.jpg\",\"vote_average\":5.106,\"vote_count\":2,\"width\":1920},{\"aspect_ratio\":1.778,\"height\":1080,\"iso_639_1\":\"en\",\"file_path\":\"/lGK6wh1DO8A157iVK0dIdyouPDk.jpg\",\"vote_average\":5.106,\"vote_count\":2,\"width\":1920},{\"aspect_ratio\":1.778,\"height\":1080,\"iso_639_1\":null,\"file_path\":\"/8Q8KEIrgNsFC0SctYJOeFh1uS7d.jpg\",\"vote_average\":5.106,\"vote_count\":2,\"width\":1920},{\"aspect_ratio\":1.778,\"height\":1080,\"iso_639_1\":\"en\",\"file_path\":\"/r7kHLlRXuQ1ng8mp7V83gj4yrNq.jpg\",\"vote_average\":5.106,\"vote_count\":2,\"width\":1920},{\"aspect_ratio\":1.778,\"height\":1080,\"iso_639_1\":\"en\",\"file_path\":\"/7BmECUj3vfszHE8TfmFEgGeBXjX.jpg\",\"vote_average\":5.106,\"vote_count\":2,\"width\":1920},{\"aspect_ratio\":1.778,\"height\":1080,\"iso_639_1\":null,\"file_path\":\"/2j5zlVyhSDi8VkMc2BlpA2sxRmg.jpg\",\"vote_average\":5.044,\"vote_count\":3,\"width\":1920},{\"aspect_ratio\":1.778,\"height\":1080,\"iso_639_1\":null,\"file_path\":\"/m3k3IZQz2qtqXqTzF4gDeFgPdXb.jpg\",\"vote_average\":5.044,\"vote_count\":3,\"width\":1920},{\"aspect_ratio\":1.778,\"height\":1080,\"iso_639_1\":null,\"file_path\":\"/chauy3iJaZtrMbTr72rgNmOZwo3.jpg\",\"vote_average\":4.828,\"vote_count\":16,\"width\":1920},{\"aspect_ratio\":1.778,\"height\":1080,\"iso_639_1\":null,\"file_path\":\"/wYhjMFUdUrc6ZY5To92AxbGTXUL.jpg\",\"vote_average\":0.0,\"vote_count\":0,\"width\":1920},{\"aspect_ratio\":1.778,\"height\":1080,\"iso_639_1\":null,\"file_path\":\"/13dJSU62nPYprYHRQUylSHKkxMa.jpg\",\"vote_average\":0.0,\"vote_count\":0,\"width\":1920},{\"aspect_ratio\":1.778,\"height\":1080,\"iso_639_1\":null,\"file_path\":\"/sg1wyHbC2cyVolB84AgiYpWg8bp.jpg\",\"vote_average\":0.0,\"vote_count\":0,\"width\":1920},{\"aspect_ratio\":1.778,\"height\":1080,\"iso_639_1\":\"de\",\"file_path\":\"/4U9fN2jsQ94GQfDGeLEe8UaReRO.jpg\",\"vote_average\":0.0,\"vote_count\":0,\"width\":1920},{\"aspect_ratio\":1.778,\"height\":1080,\"iso_639_1\":null,\"file_path\":\"/1I6aiIYhfCufLaoAw1Qr9bMFj15.jpg\",\"vote_average\":0.0,\"vote_count\":0,\"width\":1920},{\"aspect_ratio\":1.778,\"height\":2160,\"iso_639_1\":null,\"file_path\":\"/2vptjRkDHk4qswD6IrWIYlDTVRQ.jpg\",\"vote_average\":0.0,\"vote_count\":0,\"width\":3840},{\"aspect_ratio\":1.778,\"height\":2160,\"iso_639_1\":\"en\",\"file_path\":\"/wTozk4mB5zy4XNlEk9tIrqIv6vo.jpg\",\"vote_average\":0.0,\"vote_count\":0,\"width\":3840},{\"aspect_ratio\":1.778,\"height\":1080,\"iso_639_1\":\"de\",\"file_path\":\"/7UsIKwPIrRIEAv9rvLaXZGeqiy8.jpg\",\"vote_average\":0.0,\"vote_count\":0,\"width\":1920},{\"aspect_ratio\":1.778,\"height\":1440,\"iso_639_1\":\"de\",\"file_path\":\"/9VNyqp97EmxPBTIxpxNwqwMeVfr.jpg\",\"vote_average\":0.0,\"vote_count\":0,\"width\":2560},{\"aspect_ratio\":1.778,\"height\":2160,\"iso_639_1\":\"ru\",\"file_path\":\"/gSJBjU3mOZ48xAGUHxOxH5pSMp6.jpg\",\"vote_average\":0.0,\"vote_count\":0,\"width\":3840},{\"aspect_ratio\":1.778,\"height\":2160,\"iso_639_1\":\"fr\",\"file_path\":\"/lVaY1Z4SKN14LgKWxhmgScgZr9F.jpg\",\"vote_average\":0.0,\"vote_count\":0,\"width\":3840},{\"aspect_ratio\":1.778,\"height\":720,\"iso_639_1\":\"vi\",\"file_path\":\"/4aHiJ5HX3jFGQsJD6FPU7N7yQZW.jpg\",\"vote_average\":0.0,\"vote_count\":0,\"width\":1280},{\"aspect_ratio\":1.778,\"height\":2160,\"iso_639_1\":\"he\",\"file_path\":\"/rPXZm1KtuoRUHL8vE2R60gIhCzs.jpg\",\"vote_average\":0.0,\"vote_count\":0,\"width\":3840},{\"aspect_ratio\":1.778,\"height\":1080,\"iso_639_1\":null,\"file_path\":\"/4aFSuRGyhWrMVOXLIYMllgBcBpw.jpg\",\"vote_average\":0.0,\"vote_count\":0,\"width\":1920},{\"aspect_ratio\":1.778,\"height\":1080,\"iso_639_1\":null,\"file_path\":\"/ccp9KGTuImy1CRaIJXaTwt1P6uX.jpg\",\"vote_average\":0.0,\"vote_count\":0,\"width\":1920},{\"aspect_ratio\":1.778,\"height\":720,\"iso_639_1\":null,\"file_path\":\"/x1wP4UEfV3ARWJCxv9jBVz2QIas.jpg\",\"vote_average\":0.0,\"vote_count\":0,\"width\":1280},{\"aspect_ratio\":1.778,\"height\":1080,\"iso_639_1\":null,\"file_path\":\"/tVZ5WNsJ9j0lCijknlZtI8uUZbw.jpg\",\"vote_average\":0.0,\"vote_count\":0,\"width\":1920},{\"aspect_ratio\":1.777,\"height\":726,\"iso_639_1\":null,\"file_path\":\"/2AZEfo9Z36yywTHr4ZCdSEAw3bl.jpg\",\"vote_average\":0.0,\"vote_count\":0,\"width\":1290},{\"aspect_ratio\":1.777,\"height\":726,\"iso_639_1\":null,\"file_path\":\"/aasnJQTYtEpPEQHpoyOV8MmG1nR.jpg\",\"vote_average\":0.0,\"vote_count\":0,\"width\":1290},{\"aspect_ratio\":1.778,\"height\":1440,\"iso_639_1\":null,\"file_path\":\"/b2CE63lIWKpfaSXEwV3M81YzJl8.jpg\",\"vote_average\":0.0,\"vote_count\":0,\"width\":2560},{\"aspect_ratio\":1.777,\"height\":726,\"iso_639_1\":null,\"file_path\":\"/txCYoQb5Fn1XKKFaBHH5iCvB05B.jpg\",\"vote_average\":0.0,\"vote_count\":0,\"width\":1290}],\"id\":19995,\"logos\":[{\"aspect_ratio\":4.267,\"height\":315,\"iso_639_1\":\"en\",\"file_path\":\"/bfyDWTohsMdoYqEs9gVjkQo8Gk1.png\",\"vote_average\":5.456,\"vote_count\":7,\"width\":1344},{\"aspect_ratio\":4.863,\"height\":329,\"iso_639_1\":\"en\",\"file_path\":\"/eYBa9fpSvZEYOl88ulP5fnRoCIi.png\",\"vote_average\":5.456,\"vote_count\":5,\"width\":1600},{\"aspect_ratio\":4.267,\"height\":450,\"iso_639_1\":\"en\",\"file_path\":\"/m0XsNVAsCfibfMAlE6HY3BhnbAV.png\",\"vote_average\":5.454,\"vote_count\":3,\"width\":1920},{\"aspect_ratio\":4.255,\"height\":1015,\"iso_639_1\":\"en\",\"file_path\":\"/9A4Q6grt10RPtTNTNPzxxMOVTLO.png\",\"vote_average\":5.312,\"vote_count\":1,\"width\":4319},{\"aspect_ratio\":6.102,\"height\":707,\"iso_639_1\":\"en\",\"file_path\":\"/bET8bJdM8diTCpUVilWqqu0M3EJ.png\",\"vote_average\":5.312,\"vote_count\":1,\"width\":4314},{\"aspect_ratio\":4.226,\"height\":1022,\"iso_639_1\":\"uk\",\"file_path\":\"/xJePmVLAzLLykyoYV2lvYoMdxfg.png\",\"vote_average\":5.312,\"vote_count\":1,\"width\":4319},{\"aspect_ratio\":4.254,\"height\":185,\"iso_639_1\":\"pt\",\"file_path\":\"/6cNQbpK3wJYyZg67JePH3DdiuzW.png\",\"vote_average\":5.312,\"vote_count\":1,\"width\":787},{\"aspect_ratio\":4.71,\"height\":917,\"iso_639_1\":\"he\",\"file_path\":\"/1gXD2BFPQWgFUCeLiG2syrmzZww.png\",\"vote_average\":5.312,\"vote_count\":1,\"width\":4319},{\"aspect_ratio\":4.517,\"height\":147,\"iso_639_1\":\"zh\",\"file_path\":\"/1BNfeuv2rlNgmeeUGtJykhnAZfC.png\",\"vote_average\":5.312,\"vote_count\":1,\"width\":664},{\"aspect_ratio\":4.197,\"height\":314,\"iso_639_1\":\"en\",\"file_path\":\"/4iy22hJUxDCdUPDRPQ5p65nJaZ8.png\",\"vote_average\":5.312,\"vote_count\":1,\"width\":1318},{\"aspect_ratio\":4.296,\"height\":186,\"iso_639_1\":\"ru\",\"file_path\":\"/lIP7ImvBGYCuf8e8h3QyGI17NAT.png\",\"vote_average\":5.246,\"vote_count\":2,\"width\":799},{\"aspect_ratio\":4.295,\"height\":183,\"iso_639_1\":\"en\",\"file_path\":\"/lS5gVVLWmKr9h7Ii7n60IQYEycw.png\",\"vote_average\":5.246,\"vote_count\":2,\"width\":786},{\"aspect_ratio\":4.207,\"height\":290,\"iso_639_1\":\"zh\",\"file_path\":\"/bVr5VzdhqEaOmcwVxbLLYpVPnvS.png\",\"vote_average\":5.246,\"vote_count\":2,\"width\":1220},{\"aspect_ratio\":1.667,\"height\":562,\"iso_639_1\":\"ru\",\"file_path\":\"/vFgD0mVOu2NntI4VSpRPGKsAYc5.png\",\"vote_average\":5.246,\"vote_count\":2,\"width\":937},{\"aspect_ratio\":4.236,\"height\":906,\"iso_639_1\":\"he\",\"file_path\":\"/3n9hLvKZ3XTpm1v8gSgxj7pf1eB.png\",\"vote_average\":5.238,\"vote_count\":0,\"width\":3838},{\"aspect_ratio\":4.28,\"height\":1009,\"iso_639_1\":\"en\",\"file_path\":\"/mTrxATnaIGUV9BTaiM7vdp5qSdx.png\",\"vote_average\":5.238,\"vote_count\":0,\"width\":4319},{\"aspect_ratio\":4.794,\"height\":801,\"iso_639_1\":\"he\",\"file_path\":\"/tPs6GNfTo7iPXp9iUSR7gogPwz0.png\",\"vote_average\":5.18,\"vote_count\":3,\"width\":3840},{\"aspect_ratio\":5.038,\"height\":158,\"iso_639_1\":\"he\",\"file_path\":\"/ycmzeEMTc8PzRdo0RSHTbwtOF3G.png\",\"vote_average\":5.172,\"vote_count\":1,\"width\":796},{\"aspect_ratio\":3.414,\"height\":297,\"iso_639_1\":\"uk\",\"file_path\":\"/7RI7vU6HvS45DZa6XZ5krScvSaI.png\",\"vote_average\":5.172,\"vote_count\":1,\"width\":1014},{\"aspect_ratio\":3.0,\"height\":360,\"iso_639_1\":\"zh\",\"file_path\":\"/t9tqQimWeGG5jqinxCbgRgKYXoT.png\",\"vote_average\":5.106,\"vote_count\":2,\"width\":1080},{\"aspect_ratio\":4.418,\"height\":275,\"iso_639_1\":\"zh\",\"file_path\":\"/7iOygFgVbGRcKtSjKlVGbcbFGwi.png\",\"vote_average\":5.106,\"vote_count\":2,\"width\":1215},{\"aspect_ratio\":5.787,\"height\":136,\"iso_639_1\":\"en\",\"file_path\":\"/fzQqQYh7e6Cs1A1Zm1xzZjIkbmG.png\",\"vote_average\":0.0,\"vote_count\":0,\"width\":787},{\"aspect_ratio\":5.592,\"height\":142,\"iso_639_1\":\"en\",\"file_path\":\"/150jtbuNlHz5qtnywSfrxf4K2Tk.png\",\"vote_average\":0.0,\"vote_count\":0,\"width\":794},{\"aspect_ratio\":4.267,\"height\":315,\"iso_639_1\":\"en\",\"file_path\":\"/8rHk6XfIiF65bzkpa9OggEvpW5y.png\",\"vote_average\":0.0,\"vote_count\":0,\"width\":1344},{\"aspect_ratio\":6.118,\"height\":127,\"iso_639_1\":\"en\",\"file_path\":\"/lTVYP9hUwnCh0HnaspEDMsUZx3K.png\",\"vote_average\":0.0,\"vote_count\":0,\"width\":777},{\"aspect_ratio\":3.521,\"height\":409,\"iso_639_1\":\"ja\",\"file_path\":\"/AbQEQ6N6u7ZFMbl9z0LP580cvAq.png\",\"vote_average\":0.0,\"vote_count\":0,\"width\":1440},{\"aspect_ratio\":5.83,\"height\":135,\"iso_639_1\":\"en\",\"file_path\":\"/rW8vwPpgA8Qykxodxq5BiHZEv7C.png\",\"vote_average\":0.0,\"vote_count\":0,\"width\":787},{\"aspect_ratio\":5.383,\"height\":248,\"iso_639_1\":\"en\",\"file_path\":\"/gh3iRtVEX5pwhgEmvvLiDCMhguh.png\",\"vote_average\":0.0,\"vote_count\":0,\"width\":1335},{\"aspect_ratio\":3.591,\"height\":1173,\"iso_639_1\":\"de\",\"file_path\":\"/38NKS7T0WE1PBw2TcKolsy9TK3R.png\",\"vote_average\":0.0,\"vote_count\":0,\"width\":4212},{\"aspect_ratio\":6.11,\"height\":127,\"iso_639_1\":\"en\",\"file_path\":\"/4VmoJU9FPuuZcVI4PwGjTHaTZx4.png\",\"vote_average\":0.0,\"vote_count\":0,\"width\":776},{\"aspect_ratio\":3.682,\"height\":1043,\"iso_639_1\":\"ko\",\"file_path\":\"/lYl6H6MH2xTsiLaovmTvEkGDLrF.png\",\"vote_average\":0.0,\"vote_count\":0,\"width\":3840},{\"aspect_ratio\":4.267,\"height\":450,\"iso_639_1\":\"ru\",\"file_path\":\"/84CagaS8jRagsOQN4PibXaScTF3.png\",\"vote_average\":0.0,\"vote_count\":0,\"width\":1920},{\"aspect_ratio\":4.284,\"height\":447,\"iso_639_1\":\"ru\",\"file_path\":\"/gnvnP21YRkpT8VXgptyIvmyoqsJ.png\",\"vote_average\":0.0,\"vote_count\":0,\"width\":1915},{\"aspect_ratio\":4.284,\"height\":447,\"iso_639_1\":\"ru\",\"file_path\":\"/84dEfFe30wG3nhi8GZlkKBegfl1.png\",\"vote_average\":0.0,\"vote_count\":0,\"width\":1915},{\"aspect_ratio\":1.779,\"height\":562,\"iso_639_1\":\"ru\",\"file_path\":\"/hGjJKFTabQXFiWtt0dZLJAJTe9n.png\",\"vote_average\":0.0,\"vote_count\":0,\"width\":1000}],\"posters\":[{\"aspect_ratio\":0.667,\"height\":2127,\"iso_639_1\":\"uk\",\"file_path\":\"/uaRusyPlXRD4w3XPbfDDbO4jXST.jpg\",\"vote_average\":5.84,\"vote_count\":20,\"width\":1418},{\"aspect_ratio\":0.667,\"height\":3000,\"iso_639_1\":\"en\",\"file_path\":\"/kyeqWdyUXW608qlYkRqosgbbJyK.jpg\",\"vote_average\":5.726,\"vote_count\":22,\"width\":2000},{\"aspect_ratio\":0.671,\"height\":1605,\"iso_639_1\":\"zh\",\"file_path\":\"/aKeJgTDAiBe5hFgFgI3V3ChOLmh.jpg\",\"vote_average\":5.516,\"vote_count\":14,\"width\":1077},{\"aspect_ratio\":0.667,\"height\":3000,\"iso_639_1\":null,\"file_path\":\"/fwmoeF44DXBk1tC30QFAiE0nwjT.jpg\",\"vote_average\":5.454,\"vote_count\":3,\"width\":2000},{\"aspect_ratio\":0.667,\"height\":1500,\"iso_639_1\":\"ru\",\"file_path\":\"/lUKcrcO3wEPhNnzGq06JIX7GIEb.jpg\",\"vote_average\":5.454,\"vote_count\":3,\"width\":1000},{\"aspect_ratio\":0.675,\"height\":1185,\"iso_639_1\":\"zh\",\"file_path\":\"/uS67uczJFPMfNN4U5bWg4muU9nS.jpg\",\"vote_average\":5.454,\"vote_count\":3,\"width\":800},{\"aspect_ratio\":0.667,\"height\":3000,\"iso_639_1\":\"en\",\"file_path\":\"/6EiRUJpuoeQPghrs3YNktfnqOVh.jpg\",\"vote_average\":5.424,\"vote_count\":50,\"width\":2000},{\"aspect_ratio\":0.667,\"height\":3000,\"iso_639_1\":\"uk\",\"file_path\":\"/djivZ5RHOLN4J22jqZ2IMtIYvM.jpg\",\"vote_average\":5.402,\"vote_count\":18,\"width\":2000},{\"aspect_ratio\":0.667,\"height\":3000,\"iso_639_1\":\"en\",\"file_path\":\"/vbtsge1cmZ3iMXV016pVqba1VD0.jpg\",\"vote_average\":5.39,\"vote_count\":6,\"width\":2000},{\"aspect_ratio\":0.667,\"height\":1500,\"iso_639_1\":\"vi\",\"file_path\":\"/bxp5IUY05jLGeZ5bW85W2NF6Rgi.jpg\",\"vote_average\":5.384,\"vote_count\":2,\"width\":1000},{\"aspect_ratio\":0.667,\"height\":2048,\"iso_639_1\":\"uk\",\"file_path\":\"/bdCmL5PXiDG18ADKndrgso3Y163.jpg\",\"vote_average\":5.348,\"vote_count\":19,\"width\":1366},{\"aspect_ratio\":0.667,\"height\":1350,\"iso_639_1\":\"en\",\"file_path\":\"/8FouYNfh0glUteYG20F6rlLGKhU.jpg\",\"vote_average\":5.346,\"vote_count\":17,\"width\":900},{\"aspect_ratio\":0.667,\"height\":2100,\"iso_639_1\":\"uk\",\"file_path\":\"/i9X3w4B6Wj458C7MdDPhKeoAx8b.jpg\",\"vote_average\":5.326,\"vote_count\":7,\"width\":1400},{\"aspect_ratio\":0.667,\"height\":2500,\"iso_639_1\":\"es\",\"file_path\":\"/tXmTHdrZgNsULqCbThK2Dt2X9Wt.jpg\",\"vote_average\":5.326,\"vote_count\":7,\"width\":1667},{\"aspect_ratio\":0.667,\"height\":3000,\"iso_639_1\":\"es\",\"file_path\":\"/ip8KeJPM3qEEklev7sXeaOkJeaf.jpg\",\"vote_average\":5.322,\"vote_count\":5,\"width\":2000},{\"aspect_ratio\":0.667,\"height\":1500,\"iso_639_1\":\"de\",\"file_path\":\"/8VV4YUwOGxgolFZTo2SgNwsfznR.jpg\",\"vote_average\":5.318,\"vote_count\":3,\"width\":1000},{\"aspect_ratio\":0.667,\"height\":3000,\"iso_639_1\":\"es\",\"file_path\":\"/51nLwt7Wn7YQgp2oMGzZyn6fs7Y.jpg\",\"vote_average\":5.318,\"vote_count\":3,\"width\":2000},{\"aspect_ratio\":0.667,\"height\":3000,\"iso_639_1\":\"en\",\"file_path\":\"/yuBGGfHaQcfb6b9bEYtE0PgbZFl.jpg\",\"vote_average\":5.318,\"vote_count\":3,\"width\":2000},{\"aspect_ratio\":0.667,\"height\":1500,\"iso_639_1\":\"cs\",\"file_path\":\"/q6ilgi1VzOMYRhcGEdYNBD3Lm5O.jpg\",\"vote_average\":5.312,\"vote_count\":1,\"width\":1000},{\"aspect_ratio\":0.667,\"height\":750,\"iso_639_1\":\"pl\",\"file_path\":\"/6DfNtptjkIrevq4mDAB0XDXT0NO.jpg\",\"vote_average\":5.312,\"vote_count\":1,\"width\":500},{\"aspect_ratio\":0.698,\"height\":2645,\"iso_639_1\":\"ko\",\"file_path\":\"/idvaCRXzHxiUprGBCpp7s7CSRhP.jpg\",\"vote_average\":5.312,\"vote_count\":1,\"width\":1847},{\"aspect_ratio\":0.698,\"height\":1361,\"iso_639_1\":\"ko\",\"file_path\":\"/zygmx5abXeDpr3fWYX4jlXFZ1wh.jpg\",\"vote_average\":5.312,\"vote_count\":1,\"width\":950},{\"aspect_ratio\":0.667,\"height\":1500,\"iso_639_1\":\"he\",\"file_path\":\"/3E7NAM0kJ1Bd0n0O22O2y8BPfmE.jpg\",\"vote_average\":5.312,\"vote_count\":1,\"width\":1000},{\"aspect_ratio\":0.666,\"height\":800,\"iso_639_1\":\"ja\",\"file_path\":\"/g9oEopuLdvVZNZw54vPC2fe6tNv.jpg\",\"vote_average\":5.312,\"vote_count\":1,\"width\":533},{\"aspect_ratio\":0.667,\"height\":2562,\"iso_639_1\":null,\"file_path\":\"/lJfJds2uKuQLsBBu5Gq0TskNYkC.jpg\",\"vote_average\":5.312,\"vote_count\":1,\"width\":1708},{\"aspect_ratio\":0.667,\"height\":3000,\"iso_639_1\":\"ro\",\"file_path\":\"/wP8R8mHl3hdjp646sWS8gs9ajz2.jpg\",\"vote_average\":5.312,\"vote_count\":1,\"width\":2000},{\"aspect_ratio\":0.667,\"height\":3000,\"iso_639_1\":\"ro\",\"file_path\":\"/o47igQlyLHn59reVg2sfxRn9H1F.jpg\",\"vote_average\":5.312,\"vote_count\":1,\"width\":2000},{\"aspect_ratio\":0.702,\"height\":1740,\"iso_639_1\":\"nl\",\"file_path\":\"/vXHr8oGoIN5yJ27fW7p8LQLBVuu.jpg\",\"vote_average\":5.312,\"vote_count\":1,\"width\":1221},{\"aspect_ratio\":0.667,\"height\":3000,\"iso_639_1\":\"bg\",\"file_path\":\"/yVX5KCoSQywYtvvW3HDEWn1E5Pb.jpg\",\"vote_average\":5.312,\"vote_count\":1,\"width\":2000},{\"aspect_ratio\":0.667,\"height\":3000,\"iso_639_1\":\"ko\",\"file_path\":\"/m5lCha2XcbDowDoYHPc0DTNaCPU.jpg\",\"vote_average\":5.312,\"vote_count\":1,\"width\":2000},{\"aspect_ratio\":0.667,\"height\":3000,\"iso_639_1\":\"es\",\"file_path\":\"/2CuuHI12yUTOUedeVd3REhXumvN.jpg\",\"vote_average\":5.312,\"vote_count\":1,\"width\":2000},{\"aspect_ratio\":0.667,\"height\":1500,\"iso_639_1\":\"ka\",\"file_path\":\"/sX50MuB7eXi5fAGJVeJS9jpYBNF.jpg\",\"vote_average\":5.312,\"vote_count\":1,\"width\":1000},{\"aspect_ratio\":0.667,\"height\":3000,\"iso_639_1\":\"de\",\"file_path\":\"/u3lDeN1l2YD1WNKhxiAwXZ4S4ii.jpg\",\"vote_average\":5.312,\"vote_count\":1,\"width\":2000},{\"aspect_ratio\":0.667,\"height\":3000,\"iso_639_1\":null,\"file_path\":\"/qLQgNd5NcPgEJBN6V9fg14YdIE7.jpg\",\"vote_average\":5.312,\"vote_count\":1,\"width\":2000},{\"aspect_ratio\":0.667,\"height\":3000,\"iso_639_1\":\"zh\",\"file_path\":\"/yTapYDvTQgxKUdilCYXRrGfpofj.jpg\",\"vote_average\":5.312,\"vote_count\":1,\"width\":2000},{\"aspect_ratio\":0.667,\"height\":3000,\"iso_639_1\":\"zh\",\"file_path\":\"/sLcIcYGeT14CGTlhWKTYR3FrATb.jpg\",\"vote_average\":5.312,\"vote_count\":1,\"width\":2000},{\"aspect_ratio\":0.667,\"height\":3000,\"iso_639_1\":\"en\",\"file_path\":\"/j18d0tb342x2NmrfTE9walUBW23.jpg\",\"vote_average\":5.312,\"vote_count\":1,\"width\":2000},{\"aspect_ratio\":0.667,\"height\":3000,\"iso_639_1\":\"en\",\"file_path\":\"/unbrtK8zEjPANvNkbwhjpSxYWzN.jpg\",\"vote_average\":5.302,\"vote_count\":49,\"width\":2000},{\"aspect_ratio\":0.667,\"height\":1500,\"iso_639_1\":\"en\",\"file_path\":\"/3d727WSbC5pkn02pxrnU1ZU3ZkX.jpg\",\"vote_average\":5.286,\"vote_count\":16,\"width\":1000},{\"aspect_ratio\":0.667,\"height\":2550,\"iso_639_1\":null,\"file_path\":\"/sPJKA3I7nezClN3KV3ZU65rkn8j.jpg\",\"vote_average\":5.276,\"vote_count\":12,\"width\":1700},{\"aspect_ratio\":0.667,\"height\":3000,\"iso_639_1\":\"zh\",\"file_path\":\"/6mvPsDFBzrV4QmXgJwa6jxYMBhp.jpg\",\"vote_average\":5.264,\"vote_count\":8,\"width\":2000},{\"aspect_ratio\":0.667,\"height\":1500,\"iso_639_1\":\"en\",\"file_path\":\"/1XXIKzwo8AUQ0KYg9sRwESmNxO8.jpg\",\"vote_average\":5.258,\"vote_count\":6,\"width\":1000},{\"aspect_ratio\":0.667,\"height\":3000,\"iso_639_1\":\"en\",\"file_path\":\"/2aYUxWJxtO621NSFpI49o6I1jTQ.jpg\",\"vote_average\":5.258,\"vote_count\":6,\"width\":2000},{\"aspect_ratio\":0.667,\"height\":2100,\"iso_639_1\":\"es\",\"file_path\":\"/rnXvxm58SlGEreIGJ5k9c5eCJNO.jpg\",\"vote_average\":5.252,\"vote_count\":4,\"width\":1400},{\"aspect_ratio\":0.667,\"height\":1500,\"iso_639_1\":\"en\",\"file_path\":\"/8JYTlo1jRSvGsBtjOWsUX1L4yUJ.jpg\",\"vote_average\":5.252,\"vote_count\":4,\"width\":1000},{\"aspect_ratio\":0.667,\"height\":3000,\"iso_639_1\":\"en\",\"file_path\":\"/t5T3LPbLLgP2OP6kloM9p2PXpJL.jpg\",\"vote_average\":5.252,\"vote_count\":4,\"width\":2000},{\"aspect_ratio\":0.666,\"height\":1936,\"iso_639_1\":null,\"file_path\":\"/yCo7jFBcIqwyOZ8ToOJt1QhVEKI.jpg\",\"vote_average\":5.252,\"vote_count\":4,\"width\":1290},{\"aspect_ratio\":0.667,\"height\":1800,\"iso_639_1\":\"en\",\"file_path\":\"/oRKarvFyQbJH8701P8UPIkItH4B.jpg\",\"vote_average\":5.252,\"vote_count\":4,\"width\":1200},{\"aspect_ratio\":0.706,\"height\":2522,\"iso_639_1\":\"ja\",\"file_path\":\"/fHj28ZFhZWlFqkdaDFJYnDBPAXS.jpg\",\"vote_average\":5.246,\"vote_count\":2,\"width\":1781},{\"aspect_ratio\":0.69,\"height\":1525,\"iso_639_1\":\"bg\",\"file_path\":\"/3P8OrtlMwVFi2dikaPLx7EtoGpc.jpg\",\"vote_average\":5.246,\"vote_count\":2,\"width\":1052},{\"aspect_ratio\":0.667,\"height\":3000,\"iso_639_1\":null,\"file_path\":\"/wSzbj8sobbAA1LmgYuw7vUR4KcP.jpg\",\"vote_average\":5.246,\"vote_count\":2,\"width\":2000},{\"aspect_ratio\":0.667,\"height\":3000,\"iso_639_1\":null,\"file_path\":\"/xEGNSJv15EiXz6FwzDIfCc9VXqR.jpg\",\"vote_average\":5.246,\"vote_count\":2,\"width\":2000},{\"aspect_ratio\":0.667,\"height\":3000,\"iso_639_1\":\"ru\",\"file_path\":\"/RKUHjztoZujR3wQKMzFQIYg5Qf.jpg\",\"vote_average\":5.246,\"vote_count\":2,\"width\":2000},{\"aspect_ratio\":0.667,\"height\":3000,\"iso_639_1\":\"de\",\"file_path\":\"/nhe9qH3LstbftALgZGJs6LqFEQa.jpg\",\"vote_average\":5.246,\"vote_count\":2,\"width\":2000},{\"aspect_ratio\":0.667,\"height\":750,\"iso_639_1\":\"zh\",\"file_path\":\"/zbryAUWrm9vAxZ0v8v5NBbqPqdN.jpg\",\"vote_average\":5.246,\"vote_count\":2,\"width\":500},{\"aspect_ratio\":0.667,\"height\":3000,\"iso_639_1\":\"ru\",\"file_path\":\"/znsmyBwJXVcJw8IeJfiYYqIySjY.jpg\",\"vote_average\":5.246,\"vote_count\":2,\"width\":2000},{\"aspect_ratio\":0.667,\"height\":3000,\"iso_639_1\":\"es\",\"file_path\":\"/nn7prZXNz3dgCV5jeShqqfHcU9F.jpg\",\"vote_average\":5.246,\"vote_count\":2,\"width\":2000},{\"aspect_ratio\":0.667,\"height\":3000,\"iso_639_1\":\"es\",\"file_path\":\"/vuFG3BJx7iUWdF3iZy711BnT8zh.jpg\",\"vote_average\":5.246,\"vote_count\":2,\"width\":2000},{\"aspect_ratio\":0.667,\"height\":3000,\"iso_639_1\":\"es\",\"file_path\":\"/qJ2yclWlG7OBMsbMsduulgLFFYJ.jpg\",\"vote_average\":5.246,\"vote_count\":2,\"width\":2000},{\"aspect_ratio\":0.667,\"height\":3000,\"iso_639_1\":\"es\",\"file_path\":\"/bLSsBEr67vjjlbnHdwE2b8g4j5E.jpg\",\"vote_average\":5.246,\"vote_count\":2,\"width\":2000},{\"aspect_ratio\":0.667,\"height\":3000,\"iso_639_1\":\"es\",\"file_path\":\"/re3Q2z8ynwFY7RmDtbozY3zqTzo.jpg\",\"vote_average\":5.246,\"vote_count\":2,\"width\":2000},{\"aspect_ratio\":0.675,\"height\":1536,\"iso_639_1\":\"it\",\"file_path\":\"/yHS4y34DnIVeRmOjzofBc8W2B2g.jpg\",\"vote_average\":5.246,\"vote_count\":2,\"width\":1037},{\"aspect_ratio\":0.667,\"height\":1500,\"iso_639_1\":\"de\",\"file_path\":\"/h3HXrV36ejgQakWxfIzEefYn6zq.jpg\",\"vote_average\":5.246,\"vote_count\":2,\"width\":1000},{\"aspect_ratio\":0.667,\"height\":3000,\"iso_639_1\":\"en\",\"file_path\":\"/FpH1WMn80l2ZeDjPoOW5aWZfJT.jpg\",\"vote_average\":5.246,\"vote_count\":2,\"width\":2000},{\"aspect_ratio\":0.667,\"height\":3000,\"iso_639_1\":null,\"file_path\":\"/1OUfXgE3JwXlaqb8IciXWD197xu.jpg\",\"vote_average\":5.246,\"vote_count\":2,\"width\":2000},{\"aspect_ratio\":0.667,\"height\":2856,\"iso_639_1\":null,\"file_path\":\"/8ETKIKd0Ca8t16YjsrfOsVrLaYP.jpg\",\"vote_average\":5.246,\"vote_count\":2,\"width\":1904},{\"aspect_ratio\":0.667,\"height\":3000,\"iso_639_1\":null,\"file_path\":\"/srdFRa7cfWlHy5PDQALnbNABOBS.jpg\",\"vote_average\":5.246,\"vote_count\":2,\"width\":2000},{\"aspect_ratio\":0.667,\"height\":1500,\"iso_639_1\":\"en\",\"file_path\":\"/gu9cjanuAQZnzirPQxZLKv5CSyZ.jpg\",\"vote_average\":5.246,\"vote_count\":2,\"width\":1000},{\"aspect_ratio\":0.667,\"height\":3000,\"iso_639_1\":\"am\",\"file_path\":\"/7cIJ74ZzfbobaCu6sts9nmSY1Tv.jpg\",\"vote_average\":5.246,\"vote_count\":2,\"width\":2000},{\"aspect_ratio\":0.667,\"height\":3000,\"iso_639_1\":\"\",\"file_path\":\"/81BkbmIRPeG0FhFU3WxOdriWOMT.jpg\",\"vote_average\":5.246,\"vote_count\":2,\"width\":2000},{\"aspect_ratio\":0.667,\"height\":3000,\"iso_639_1\":\"fr\",\"file_path\":\"/3npygfmEhqnmNTmDWhHLz1LPcbA.jpg\",\"vote_average\":5.232,\"vote_count\":17,\"width\":2000},{\"aspect_ratio\":0.667,\"height\":1920,\"iso_639_1\":\"zh\",\"file_path\":\"/bwKhj6tHlm8hiw9QjhpooJjQWgG.jpg\",\"vote_average\":5.232,\"vote_count\":17,\"width\":1280},{\"aspect_ratio\":0.667,\"height\":1350,\"iso_639_1\":\"\",\"file_path\":\"/pxbrFOTV2j8MmZQlfin3dwz5cXV.jpg\",\"vote_average\":5.232,\"vote_count\":17,\"width\":900},{\"aspect_ratio\":0.667,\"height\":3000,\"iso_639_1\":\"fr\",\"file_path\":\"/upd6F9IIMbzSl5reXsyMk7xH4Ou.jpg\",\"vote_average\":5.226,\"vote_count\":15,\"width\":2000},{\"aspect_ratio\":0.667,\"height\":3000,\"iso_639_1\":\"en\",\"file_path\":\"/c2Zq73tCzeSQAd2IeQuqNuimpTx.jpg\",\"vote_average\":5.206,\"vote_count\":9,\"width\":2000},{\"aspect_ratio\":0.666,\"height\":2000,\"iso_639_1\":\"cy\",\"file_path\":\"/q05XsJogO97Dhszou13yELuUcOo.jpg\",\"vote_average\":5.198,\"vote_count\":7,\"width\":1333},{\"aspect_ratio\":0.667,\"height\":3000,\"iso_639_1\":\"fr\",\"file_path\":\"/7mzJl74fmqvyFPET7tj53NoBbyd.jpg\",\"vote_average\":5.198,\"vote_count\":7,\"width\":2000},{\"aspect_ratio\":0.667,\"height\":1920,\"iso_639_1\":null,\"file_path\":\"/oBHqxI9NFi2m9vkQ2PNCGaZJpxL.jpg\",\"vote_average\":5.198,\"vote_count\":7,\"width\":1280},{\"aspect_ratio\":0.707,\"height\":849,\"iso_639_1\":\"uk\",\"file_path\":\"/t00Lc50ULZEW5XsDpqkf1dUCmKG.jpg\",\"vote_average\":5.194,\"vote_count\":22,\"width\":600},{\"aspect_ratio\":0.696,\"height\":2874,\"iso_639_1\":\"es\",\"file_path\":\"/uWUz2PN5cywGEVa96vFVKQa0T5H.jpg\",\"vote_average\":5.19,\"vote_count\":5,\"width\":2000},{\"aspect_ratio\":0.701,\"height\":2048,\"iso_639_1\":\"zh\",\"file_path\":\"/k4d6DmHzxIf1pgcolBFs8v4R3hl.jpg\",\"vote_average\":5.19,\"vote_count\":5,\"width\":1435},{\"aspect_ratio\":0.696,\"height\":2155,\"iso_639_1\":\"it\",\"file_path\":\"/b1UAG3QykMoLxwDgzk1LqsBkkG3.jpg\",\"vote_average\":5.18,\"vote_count\":3,\"width\":1500},{\"aspect_ratio\":0.667,\"height\":1500,\"iso_639_1\":\"ru\",\"file_path\":\"/h3B0LyC76EwLvij0MGigxKPiMqk.jpg\",\"vote_average\":5.18,\"vote_count\":3,\"width\":1000},{\"aspect_ratio\":0.667,\"height\":2250,\"iso_639_1\":\"it\",\"file_path\":\"/5QbxFkmUlLlt9CcNXyo6KCtvUaf.jpg\",\"vote_average\":5.18,\"vote_count\":3,\"width\":1500},{\"aspect_ratio\":0.675,\"height\":2048,\"iso_639_1\":\"fr\",\"file_path\":\"/87YNcZaWi4CZaAYIHUGhAxHdbIY.jpg\",\"vote_average\":5.18,\"vote_count\":3,\"width\":1382},{\"aspect_ratio\":0.667,\"height\":3000,\"iso_639_1\":null,\"file_path\":\"/gKY6q7SjCkAU6FqvqWybDYgUKIF.jpg\",\"vote_average\":5.18,\"vote_count\":3,\"width\":2000},{\"aspect_ratio\":0.667,\"height\":1800,\"iso_639_1\":null,\"file_path\":\"/uA5nYohsVQOqBJEOoukR35AsmKV.jpg\",\"vote_average\":5.18,\"vote_count\":3,\"width\":1200},{\"aspect_ratio\":0.667,\"height\":1800,\"iso_639_1\":null,\"file_path\":\"/4uxitKPdzt0Zr7CeBz3aqsnmcPT.jpg\",\"vote_average\":5.18,\"vote_count\":3,\"width\":1200},{\"aspect_ratio\":0.667,\"height\":3000,\"iso_639_1\":\"zh\",\"file_path\":\"/iJTOiCKiHGBuuaWmhGzMg3iz5Ls.jpg\",\"vote_average\":5.18,\"vote_count\":3,\"width\":2000},{\"aspect_ratio\":0.667,\"height\":3000,\"iso_639_1\":\"pt\",\"file_path\":\"/iNMP8uzV2Ing6ZCw0IICgEFVNfC.jpg\",\"vote_average\":5.18,\"vote_count\":3,\"width\":2000},{\"aspect_ratio\":0.667,\"height\":1500,\"iso_639_1\":\"\",\"file_path\":\"/jQKdFJrfljAgVLNxorezL4GxSR0.jpg\",\"vote_average\":5.18,\"vote_count\":3,\"width\":1000},{\"aspect_ratio\":0.667,\"height\":1500,\"iso_639_1\":null,\"file_path\":\"/tmRpokyVsCR0HCFplWVEzedK0Kq.jpg\",\"vote_average\":5.18,\"vote_count\":3,\"width\":1000},{\"aspect_ratio\":0.667,\"height\":3000,\"iso_639_1\":\"en\",\"file_path\":\"/7sSR6PUXaDAaReeD9lDc1OdfFSw.jpg\",\"vote_average\":5.18,\"vote_count\":3,\"width\":2000},{\"aspect_ratio\":0.706,\"height\":779,\"iso_639_1\":\"ja\",\"file_path\":\"/fhBqvqx68tifCdH0jNV8ulg9YsW.jpg\",\"vote_average\":5.172,\"vote_count\":1,\"width\":550},{\"aspect_ratio\":0.667,\"height\":1500,\"iso_639_1\":\"cs\",\"file_path\":\"/r3mFEqMInLvyGHkXSE5kIbs714I.jpg\",\"vote_average\":5.172,\"vote_count\":1,\"width\":1000},{\"aspect_ratio\":0.675,\"height\":1103,\"iso_639_1\":\"es\",\"file_path\":\"/VJ5A3fEmcCQOYsZL4xkIRnSWbU.jpg\",\"vote_average\":5.172,\"vote_count\":1,\"width\":744},{\"aspect_ratio\":0.667,\"height\":750,\"iso_639_1\":\"pl\",\"file_path\":\"/rrdlBn5la8NlzA54bbOz11kMx3R.jpg\",\"vote_average\":5.172,\"vote_count\":1,\"width\":500},{\"aspect_ratio\":0.697,\"height\":1361,\"iso_639_1\":\"ko\",\"file_path\":\"/dK4hBOZXwo56c0ntzwdnknsCb1B.jpg\",\"vote_average\":5.172,\"vote_count\":1,\"width\":949},{\"aspect_ratio\":0.752,\"height\":831,\"iso_639_1\":\"fr\",\"file_path\":\"/1s8MmgsVUrxpYpTLAGt7R6SmA5d.jpg\",\"vote_average\":5.172,\"vote_count\":1,\"width\":625},{\"aspect_ratio\":0.701,\"height\":800,\"iso_639_1\":\"he\",\"file_path\":\"/uhOErqlwdG4b6piUD1w2TNkrnQV.jpg\",\"vote_average\":5.172,\"vote_count\":1,\"width\":561},{\"aspect_ratio\":0.75,\"height\":800,\"iso_639_1\":\"no\",\"file_path\":\"/hgtv4KgX4hOu7S5TIUdK1UBcVD9.jpg\",\"vote_average\":5.172,\"vote_count\":1,\"width\":600},{\"aspect_ratio\":0.667,\"height\":2100,\"iso_639_1\":\"fr\",\"file_path\":\"/i6Ni260tNr3rSQRfBuL96RgrdRf.jpg\",\"vote_average\":5.172,\"vote_count\":1,\"width\":1400},{\"aspect_ratio\":0.667,\"height\":1500,\"iso_639_1\":\"en\",\"file_path\":\"/z08L5DPG5EAZqkE2Um0ylgv2WPe.jpg\",\"vote_average\":5.172,\"vote_count\":1,\"width\":1000},{\"aspect_ratio\":0.675,\"height\":2907,\"iso_639_1\":\"en\",\"file_path\":\"/z2R5fQMmyCzj34PhpACbvvi4lzO.jpg\",\"vote_average\":5.172,\"vote_count\":1,\"width\":1963},{\"aspect_ratio\":0.667,\"height\":3000,\"iso_639_1\":\"vi\",\"file_path\":\"/hLmihDRf3eIT4DBMgqWHiGTuHaF.jpg\",\"vote_average\":5.172,\"vote_count\":1,\"width\":2000},{\"aspect_ratio\":0.667,\"height\":1500,\"iso_639_1\":\"vi\",\"file_path\":\"/jvxtiGig2iGmYmuo5CjYJzmLlet.jpg\",\"vote_average\":5.172,\"vote_count\":1,\"width\":1000},{\"aspect_ratio\":0.667,\"height\":3000,\"iso_639_1\":null,\"file_path\":\"/vGmj0m2E0kQnIkdOcF11nZgMZRJ.jpg\",\"vote_average\":5.172,\"vote_count\":1,\"width\":2000},{\"aspect_ratio\":0.667,\"height\":3000,\"iso_639_1\":null,\"file_path\":\"/5cmzV4zCCsrGGsIDiPha8jqTjdJ.jpg\",\"vote_average\":5.172,\"vote_count\":1,\"width\":2000},{\"aspect_ratio\":0.667,\"height\":750,\"iso_639_1\":\"de\",\"file_path\":\"/hPiAJMxoS4bAOW4pe6uVs4nRTKO.jpg\",\"vote_average\":5.172,\"vote_count\":1,\"width\":500},{\"aspect_ratio\":0.667,\"height\":3000,\"iso_639_1\":\"am\",\"file_path\":\"/8ptl2GB5SAePFuocC1iWNSlWArk.jpg\",\"vote_average\":5.172,\"vote_count\":1,\"width\":2000},{\"aspect_ratio\":0.667,\"height\":1500,\"iso_639_1\":null,\"file_path\":\"/2aIWbHxGnnrapkHECsvRtQwJrFl.jpg\",\"vote_average\":5.172,\"vote_count\":1,\"width\":1000},{\"aspect_ratio\":0.667,\"height\":3000,\"iso_639_1\":null,\"file_path\":\"/bJICtJdmKywFiSnoKxjY71Z7PJ6.jpg\",\"vote_average\":5.172,\"vote_count\":1,\"width\":2000},{\"aspect_ratio\":0.667,\"height\":1500,\"iso_639_1\":\"\",\"file_path\":\"/o0V40P1RIKeba0tb4X3lHv07CW.jpg\",\"vote_average\":5.172,\"vote_count\":1,\"width\":1000},{\"aspect_ratio\":0.667,\"height\":1500,\"iso_639_1\":null,\"file_path\":\"/vTXthLmBuq6oUokIiVnugriUPCN.jpg\",\"vote_average\":5.172,\"vote_count\":1,\"width\":1000},{\"aspect_ratio\":0.667,\"height\":1500,\"iso_639_1\":null,\"file_path\":\"/3OL5g1qJzgeGLq68Ey88xMAl2fJ.jpg\",\"vote_average\":5.172,\"vote_count\":1,\"width\":1000},{\"aspect_ratio\":0.667,\"height\":1500,\"iso_639_1\":\"en\",\"file_path\":\"/iQfBjwoR833nK0ftjqmU7q4W1tU.jpg\",\"vote_average\":5.172,\"vote_count\":1,\"width\":1000},{\"aspect_ratio\":0.667,\"height\":3000,\"iso_639_1\":\"am\",\"file_path\":\"/bUlqqicJFO7WEhTigb3EJCJvjzy.jpg\",\"vote_average\":5.156,\"vote_count\":12,\"width\":2000},{\"aspect_ratio\":0.667,\"height\":3000,\"iso_639_1\":\"en\",\"file_path\":\"/20DJFNcBQ4uhdizrKHBude2CyPY.jpg\",\"vote_average\":5.138,\"vote_count\":8,\"width\":2000},{\"aspect_ratio\":0.667,\"height\":1500,\"iso_639_1\":\"en\",\"file_path\":\"/3d8b5SwdOGvlU2YHYfKrrDnFyFj.jpg\",\"vote_average\":5.128,\"vote_count\":6,\"width\":1000},{\"aspect_ratio\":0.667,\"height\":2100,\"iso_639_1\":null,\"file_path\":\"/loiA7RXohzfd6l0uoc22X7qQeCE.jpg\",\"vote_average\":5.128,\"vote_count\":6,\"width\":1400},{\"aspect_ratio\":0.667,\"height\":750,\"iso_639_1\":\"fr\",\"file_path\":\"/dosOqAioOC24HM0nWGA0QOKETAA.jpg\",\"vote_average\":5.118,\"vote_count\":4,\"width\":500},{\"aspect_ratio\":0.675,\"height\":1518,\"iso_639_1\":\"en\",\"file_path\":\"/t4EC3ktXce7jBse73Pu161OSEVV.jpg\",\"vote_average\":5.118,\"vote_count\":4,\"width\":1024},{\"aspect_ratio\":0.667,\"height\":885,\"iso_639_1\":\"tr\",\"file_path\":\"/9n3OpN5VkRx7uo6EiDMEo7Mdb7t.jpg\",\"vote_average\":5.118,\"vote_count\":4,\"width\":590},{\"aspect_ratio\":0.667,\"height\":1000,\"iso_639_1\":\"fr\",\"file_path\":\"/cJLqOzmf0AGuAjk9m238eG98d4n.jpg\",\"vote_average\":5.118,\"vote_count\":4,\"width\":667},{\"aspect_ratio\":0.667,\"height\":1500,\"iso_639_1\":\"en\",\"file_path\":\"/xPvmvQCDcbXGQIqLjgkAOj8uAYs.jpg\",\"vote_average\":5.118,\"vote_count\":4,\"width\":1000},{\"aspect_ratio\":0.667,\"height\":2100,\"iso_639_1\":\"fr\",\"file_path\":\"/fbh46n9R7CXD9d9GQkKxe8lYPxi.jpg\",\"vote_average\":5.118,\"vote_count\":4,\"width\":1400},{\"aspect_ratio\":0.667,\"height\":1500,\"iso_639_1\":\"fr\",\"file_path\":\"/o5x5FuIp4kJcIQBvqGWsSQJswcU.jpg\",\"vote_average\":5.118,\"vote_count\":4,\"width\":1000},{\"aspect_ratio\":0.667,\"height\":3000,\"iso_639_1\":null,\"file_path\":\"/6DxijBeN9PBj30owK3vHeEJ447N.jpg\",\"vote_average\":5.118,\"vote_count\":4,\"width\":2000},{\"aspect_ratio\":0.701,\"height\":1426,\"iso_639_1\":\"en\",\"file_path\":\"/7paC3UJ0P2P3DeykgQhUD1hnQJO.jpg\",\"vote_average\":5.11,\"vote_count\":15,\"width\":1000},{\"aspect_ratio\":0.701,\"height\":900,\"iso_639_1\":\"ko\",\"file_path\":\"/67QFqWFl8AJCeKBs1nadkU9145y.jpg\",\"vote_average\":5.106,\"vote_count\":2,\"width\":631},{\"aspect_ratio\":0.712,\"height\":2808,\"iso_639_1\":\"es\",\"file_path\":\"/cpSYZXc3Y4wq4SmpoabR75F5sd9.jpg\",\"vote_average\":5.106,\"vote_count\":2,\"width\":2000},{\"aspect_ratio\":0.676,\"height\":1224,\"iso_639_1\":\"ko\",\"file_path\":\"/piIlxs1uj34tYmxdre5XnuLnmQr.jpg\",\"vote_average\":5.106,\"vote_count\":2,\"width\":827},{\"aspect_ratio\":0.698,\"height\":2835,\"iso_639_1\":\"ko\",\"file_path\":\"/9TIDhjWBHxQ8ckGKzdaqsSTzrRG.jpg\",\"vote_average\":5.106,\"vote_count\":2,\"width\":1978},{\"aspect_ratio\":0.667,\"height\":1500,\"iso_639_1\":\"en\",\"file_path\":\"/psOoyoUbE85E0TON3qCU7G1Qc6U.jpg\",\"vote_average\":5.106,\"vote_count\":2,\"width\":1000},{\"aspect_ratio\":0.667,\"height\":2048,\"iso_639_1\":\"en\",\"file_path\":\"/Ar5ILNML7N3qcakoBu5FY13Y1iy.jpg\",\"vote_average\":5.106,\"vote_count\":2,\"width\":1365},{\"aspect_ratio\":0.704,\"height\":1501,\"iso_639_1\":\"en\",\"file_path\":\"/fXhxskkXddZGl8yR6UYRvhfGC1m.jpg\",\"vote_average\":5.106,\"vote_count\":2,\"width\":1057},{\"aspect_ratio\":0.677,\"height\":886,\"iso_639_1\":\"en\",\"file_path\":\"/iVOZmKdDn48PIEmuQGMgW4k9pAx.jpg\",\"vote_average\":5.106,\"vote_count\":2,\"width\":600},{\"aspect_ratio\":0.667,\"height\":1500,\"iso_639_1\":\"en\",\"file_path\":\"/ricxDDHSAdRYA4lpqdHoInputIw.jpg\",\"vote_average\":5.106,\"vote_count\":2,\"width\":1000},{\"aspect_ratio\":0.667,\"height\":2250,\"iso_639_1\":\"\",\"file_path\":\"/2QlRq0MEx8IEODKNbGZyu3Sz5UV.jpg\",\"vote_average\":5.106,\"vote_count\":2,\"width\":1500},{\"aspect_ratio\":0.667,\"height\":3000,\"iso_639_1\":\"en\",\"file_path\":\"/tjJ23h1nJk3c9NcOrxh83TqOqdb.jpg\",\"vote_average\":5.106,\"vote_count\":2,\"width\":2000},{\"aspect_ratio\":0.667,\"height\":3000,\"iso_639_1\":\"en\",\"file_path\":\"/7LyKxJGW9YcJmslLIayhCz75yui.jpg\",\"vote_average\":5.106,\"vote_count\":2,\"width\":2000},{\"aspect_ratio\":0.667,\"height\":3000,\"iso_639_1\":\"en\",\"file_path\":\"/ovSZC4jrsrn4036WEEkfdgNqx0w.jpg\",\"vote_average\":5.106,\"vote_count\":2,\"width\":2000},{\"aspect_ratio\":0.667,\"height\":1500,\"iso_639_1\":\"en\",\"file_path\":\"/9k9G6P59mj4cuEfEPNoybph1ptP.jpg\",\"vote_average\":5.106,\"vote_count\":2,\"width\":1000},{\"aspect_ratio\":0.667,\"height\":1500,\"iso_639_1\":\"en\",\"file_path\":\"/jN3Xc9ydZX3437ZmTUasvST5nxS.jpg\",\"vote_average\":5.106,\"vote_count\":2,\"width\":1000},{\"aspect_ratio\":0.667,\"height\":2248,\"iso_639_1\":\"en\",\"file_path\":\"/aMbgg5SeBdQ7Ip2Eua8dPoPvDBo.jpg\",\"vote_average\":5.106,\"vote_count\":2,\"width\":1500},{\"aspect_ratio\":0.667,\"height\":3000,\"iso_639_1\":\"en\",\"file_path\":\"/hjs8TTgXbYGWIbCf9N0ljboPabv.jpg\",\"vote_average\":5.106,\"vote_count\":2,\"width\":2000},{\"aspect_ratio\":0.667,\"height\":3000,\"iso_639_1\":\"en\",\"file_path\":\"/ftQ31KKu69QcXt6hFXrujIdOXRm.jpg\",\"vote_average\":5.106,\"vote_count\":2,\"width\":2000},{\"aspect_ratio\":0.667,\"height\":1500,\"iso_639_1\":\"en\",\"file_path\":\"/3zc4r473tFLprxhy7O6wdXeMt7b.jpg\",\"vote_average\":5.106,\"vote_count\":2,\"width\":1000},{\"aspect_ratio\":0.714,\"height\":1471,\"iso_639_1\":\"en\",\"file_path\":\"/9Y6L67s19Y5YUx8uWfbE7FUXRme.jpg\",\"vote_average\":5.106,\"vote_count\":2,\"width\":1051},{\"aspect_ratio\":0.667,\"height\":3000,\"iso_639_1\":null,\"file_path\":\"/t5oxDQ6DnHmYvdudaxJwAlhjDFE.jpg\",\"vote_average\":5.106,\"vote_count\":2,\"width\":2000},{\"aspect_ratio\":0.667,\"height\":1500,\"iso_639_1\":\"\",\"file_path\":\"/hzSXCppk69kccmRfbXsKjXIN108.jpg\",\"vote_average\":5.106,\"vote_count\":2,\"width\":1000},{\"aspect_ratio\":0.667,\"height\":3000,\"iso_639_1\":\"ab\",\"file_path\":\"/3qo5hClJSbAwIrXLDNNENC20BQU.jpg\",\"vote_average\":5.106,\"vote_count\":2,\"width\":2000},{\"aspect_ratio\":0.667,\"height\":3000,\"iso_639_1\":null,\"file_path\":\"/hUTgBqkGYSX6LIZKO57bZPaf3qi.jpg\",\"vote_average\":5.106,\"vote_count\":2,\"width\":2000},{\"aspect_ratio\":0.667,\"height\":3000,\"iso_639_1\":null,\"file_path\":\"/p9LLWnoI2uaFVqq7EJNfR1WfrlJ.jpg\",\"vote_average\":5.106,\"vote_count\":2,\"width\":2000},{\"aspect_ratio\":0.7,\"height\":886,\"iso_639_1\":\"nl\",\"file_path\":\"/wvn700u83dxVb3mryWKnNyBf7yb.jpg\",\"vote_average\":5.106,\"vote_count\":2,\"width\":620},{\"aspect_ratio\":0.675,\"height\":1185,\"iso_639_1\":\"\",\"file_path\":\"/w7AMRDW12lr0mqIzwYp8CJj4VbQ.jpg\",\"vote_average\":5.106,\"vote_count\":2,\"width\":800},{\"aspect_ratio\":0.667,\"height\":3000,\"iso_639_1\":null,\"file_path\":\"/6mBtMHUNDHk4tQPQtNaJawXju65.jpg\",\"vote_average\":5.106,\"vote_count\":2,\"width\":2000},{\"aspect_ratio\":0.667,\"height\":2100,\"iso_639_1\":null,\"file_path\":\"/5BGxPAbNbHrlaYKd2S66yAv8VlL.jpg\",\"vote_average\":5.106,\"vote_count\":2,\"width\":1400},{\"aspect_ratio\":0.667,\"height\":1800,\"iso_639_1\":null,\"file_path\":\"/77XDhnumPQ8x982gQ9Hx6wnA88J.jpg\",\"vote_average\":5.106,\"vote_count\":2,\"width\":1200},{\"aspect_ratio\":0.667,\"height\":1800,\"iso_639_1\":null,\"file_path\":\"/hrWlb1ovQ9bDZBBlGQPKk0sdf0O.jpg\",\"vote_average\":5.106,\"vote_count\":2,\"width\":1200},{\"aspect_ratio\":0.667,\"height\":3000,\"iso_639_1\":null,\"file_path\":\"/qozMEAjuq52N9Ao7uPoak9GESOa.jpg\",\"vote_average\":5.106,\"vote_count\":2,\"width\":2000},{\"aspect_ratio\":0.667,\"height\":3000,\"iso_639_1\":null,\"file_path\":\"/baredV3xPOuHaXxQFNX6Xjdxnpg.jpg\",\"vote_average\":5.106,\"vote_count\":2,\"width\":2000},{\"aspect_ratio\":0.667,\"height\":3000,\"iso_639_1\":\"pt\",\"file_path\":\"/lRRMQhlOLM9xgvjKKFndOmptqKR.jpg\",\"vote_average\":5.106,\"vote_count\":2,\"width\":2000},{\"aspect_ratio\":0.667,\"height\":3000,\"iso_639_1\":\"zh\",\"file_path\":\"/sem3mwBz4RyisPb9xyE0qvY7iz9.jpg\",\"vote_average\":5.106,\"vote_count\":2,\"width\":2000},{\"aspect_ratio\":0.667,\"height\":3000,\"iso_639_1\":\"uk\",\"file_path\":\"/eOESf4At1t2EiOtbzGlPPv3Bw90.jpg\",\"vote_average\":5.1,\"vote_count\":13,\"width\":2000},{\"aspect_ratio\":0.667,\"height\":3000,\"iso_639_1\":null,\"file_path\":\"/bJx0V8cRQW9YFcGJo3KTl9mnUXk.jpg\",\"vote_average\":5.09,\"vote_count\":11,\"width\":2000},{\"aspect_ratio\":0.667,\"height\":1500,\"iso_639_1\":\"en\",\"file_path\":\"/btnl50ZDJDSCal2NLQIYWw0XxvH.jpg\",\"vote_average\":5.08,\"vote_count\":9,\"width\":1000},{\"aspect_ratio\":0.667,\"height\":1500,\"iso_639_1\":\"en\",\"file_path\":\"/pgjs6VwqKa9COml98tqMGjIkoJG.jpg\",\"vote_average\":5.08,\"vote_count\":9,\"width\":1000},{\"aspect_ratio\":0.667,\"height\":1500,\"iso_639_1\":\"en\",\"file_path\":\"/tIlfz9nAzZq8bueDmXf94jFDvpq.jpg\",\"vote_average\":5.068,\"vote_count\":7,\"width\":1000},{\"aspect_ratio\":0.667,\"height\":3000,\"iso_639_1\":\"en\",\"file_path\":\"/8Y7WrRK1iQHEX7UIftBeBMjPjWD.jpg\",\"vote_average\":5.068,\"vote_count\":7,\"width\":2000},{\"aspect_ratio\":0.701,\"height\":1426,\"iso_639_1\":\"en\",\"file_path\":\"/5XihRwu80XcTfh0O1uzkraFc7U4.jpg\",\"vote_average\":5.068,\"vote_count\":7,\"width\":1000},{\"aspect_ratio\":0.667,\"height\":2250,\"iso_639_1\":null,\"file_path\":\"/16PtWFwAsUhW5ByOziqmx3HkJHk.jpg\",\"vote_average\":5.068,\"vote_count\":7,\"width\":1500},{\"aspect_ratio\":0.667,\"height\":2250,\"iso_639_1\":\"en\",\"file_path\":\"/nqfLjXEjQOobz4aCCAmduPRSnMz.jpg\",\"vote_average\":5.068,\"vote_count\":7,\"width\":1500},{\"aspect_ratio\":0.667,\"height\":1500,\"iso_639_1\":\"en\",\"file_path\":\"/agvNkndPlHZgpl21t3ZY7RkZxIt.jpg\",\"vote_average\":5.056,\"vote_count\":5,\"width\":1000},{\"aspect_ratio\":0.701,\"height\":1426,\"iso_639_1\":\"en\",\"file_path\":\"/yhXvZnaWLXDClVp7AsLRqSEznAx.jpg\",\"vote_average\":5.056,\"vote_count\":5,\"width\":1000},{\"aspect_ratio\":0.667,\"height\":2100,\"iso_639_1\":\"en\",\"file_path\":\"/erNwtAitkJJ6wKxFt3EMJsEb2VO.jpg\",\"vote_average\":5.056,\"vote_count\":5,\"width\":1400},{\"aspect_ratio\":0.667,\"height\":1500,\"iso_639_1\":\"en\",\"file_path\":\"/dGBbbbC70wWBDpeWKM0pKqKacGQ.jpg\",\"vote_average\":5.056,\"vote_count\":5,\"width\":1000},{\"aspect_ratio\":0.667,\"height\":2100,\"iso_639_1\":\"en\",\"file_path\":\"/nDxa9XUgCT1oLJ0RZUA0FNgmMAO.jpg\",\"vote_average\":5.056,\"vote_count\":5,\"width\":1400},{\"aspect_ratio\":0.667,\"height\":1500,\"iso_639_1\":\"en\",\"file_path\":\"/ye6xmrvzuMNgFzCGIA7YlcIQ8rN.jpg\",\"vote_average\":5.056,\"vote_count\":5,\"width\":1000},{\"aspect_ratio\":0.667,\"height\":2047,\"iso_639_1\":\"en\",\"file_path\":\"/h83OLwmvsUlEwhv7psbA44C85RR.jpg\",\"vote_average\":5.056,\"vote_count\":5,\"width\":1365},{\"aspect_ratio\":0.667,\"height\":1260,\"iso_639_1\":\"en\",\"file_path\":\"/5vyEDYNi5mmiRDXwPaeZ4dyLS7X.jpg\",\"vote_average\":5.044,\"vote_count\":3,\"width\":840},{\"aspect_ratio\":0.675,\"height\":1185,\"iso_639_1\":\"en\",\"file_path\":\"/vvDUoj3Fdtayj6PUzwiJ5J0K8df.jpg\",\"vote_average\":5.044,\"vote_count\":3,\"width\":800},{\"aspect_ratio\":0.667,\"height\":1338,\"iso_639_1\":\"en\",\"file_path\":\"/vwBYdah1g5mMAqDtlPnjSM7yxp6.jpg\",\"vote_average\":5.044,\"vote_count\":3,\"width\":892},{\"aspect_ratio\":0.667,\"height\":1185,\"iso_639_1\":\"en\",\"file_path\":\"/yEtrZb7B8wONFB0SON3nK2I9Clv.jpg\",\"vote_average\":5.044,\"vote_count\":3,\"width\":790},{\"aspect_ratio\":0.702,\"height\":1740,\"iso_639_1\":\"en\",\"file_path\":\"/aRqFODwVcEhd5aE97ZVYWvdQDyu.jpg\",\"vote_average\":5.044,\"vote_count\":3,\"width\":1221},{\"aspect_ratio\":0.702,\"height\":1740,\"iso_639_1\":\"en\",\"file_path\":\"/5ShkqZZK0XJAaUC19ruMJ2VYeNa.jpg\",\"vote_average\":5.044,\"vote_count\":3,\"width\":1221},{\"aspect_ratio\":0.667,\"height\":1500,\"iso_639_1\":\"en\",\"file_path\":\"/jgeKcaTYa8VPKuO9tTDoZuX7Ea4.jpg\",\"vote_average\":4.996,\"vote_count\":6,\"width\":1000},{\"aspect_ratio\":0.667,\"height\":3000,\"iso_639_1\":\"zh\",\"file_path\":\"/tl1BmGMaAL98ZQ80IBkufclS6wx.jpg\",\"vote_average\":4.996,\"vote_count\":6,\"width\":2000},{\"aspect_ratio\":0.701,\"height\":1426,\"iso_639_1\":\"en\",\"file_path\":\"/wxaQoAuWYc9oDZIKh6vfqnNKIiB.jpg\",\"vote_average\":4.982,\"vote_count\":4,\"width\":1000},{\"aspect_ratio\":0.667,\"height\":2048,\"iso_639_1\":\"uk\",\"file_path\":\"/aDrZgV0yrlReUkg57NmjZJMSQmz.jpg\",\"vote_average\":4.982,\"vote_count\":4,\"width\":1366},{\"aspect_ratio\":0.667,\"height\":3000,\"iso_639_1\":\"uk\",\"file_path\":\"/bGH54nnzvkiT8jsFXUFdb4yaZu7.jpg\",\"vote_average\":4.954,\"vote_count\":9,\"width\":2000},{\"aspect_ratio\":0.667,\"height\":3000,\"iso_639_1\":\"uk\",\"file_path\":\"/mNLyqMv5C88TqHdXOAoJPjD47oq.jpg\",\"vote_average\":4.938,\"vote_count\":7,\"width\":2000},{\"aspect_ratio\":0.667,\"height\":3000,\"iso_639_1\":\"uk\",\"file_path\":\"/nECFNNoGBXyI8MVi11b27DmddWe.jpg\",\"vote_average\":4.934,\"vote_count\":23,\"width\":2000},{\"aspect_ratio\":0.696,\"height\":1551,\"iso_639_1\":\"zh\",\"file_path\":\"/j1uSVoBus1MXeetW2AK97p7nOPG.jpg\",\"vote_average\":4.922,\"vote_count\":5,\"width\":1080},{\"aspect_ratio\":0.667,\"height\":3000,\"iso_639_1\":\"uk\",\"file_path\":\"/i2pq8laChZi5FxderaTAV24lQ0I.jpg\",\"vote_average\":4.882,\"vote_count\":8,\"width\":2000},{\"aspect_ratio\":0.667,\"height\":3000,\"iso_639_1\":\"es\",\"file_path\":\"/gNgqoocOVMFAAZkDJxRBotV8Jnu.jpg\",\"vote_average\":4.866,\"vote_count\":6,\"width\":2000},{\"aspect_ratio\":0.667,\"height\":3000,\"iso_639_1\":null,\"file_path\":\"/fPRI8VltZqT6tmUwemRmKtdZ4hM.jpg\",\"vote_average\":0.0,\"vote_count\":0,\"width\":2000},{\"aspect_ratio\":0.667,\"height\":3000,\"iso_639_1\":null,\"file_path\":\"/mp8l8S6ynxD7cz4c2a7Sr9aW1ej.jpg\",\"vote_average\":0.0,\"vote_count\":0,\"width\":2000},{\"aspect_ratio\":0.667,\"height\":3000,\"iso_639_1\":null,\"file_path\":\"/WxoZNhM2I9rSVEyhamUgFTIcSm.jpg\",\"vote_average\":0.0,\"vote_count\":0,\"width\":2000},{\"aspect_ratio\":0.667,\"height\":3000,\"iso_639_1\":null,\"file_path\":\"/yev8cuskZiDfzOPzVjSKPnvBnfk.jpg\",\"vote_average\":0.0,\"vote_count\":0,\"width\":2000},{\"aspect_ratio\":0.706,\"height\":1416,\"iso_639_1\":\"es\",\"file_path\":\"/jR0jPDiXBnEeelGQzb34xpxOTf7.jpg\",\"vote_average\":0.0,\"vote_count\":0,\"width\":1000},{\"aspect_ratio\":0.689,\"height\":1089,\"iso_639_1\":\"bg\",\"file_path\":\"/azlf3yNC7TtATkEzfCx4IPGOdHM.jpg\",\"vote_average\":0.0,\"vote_count\":0,\"width\":750},{\"aspect_ratio\":0.698,\"height\":2835,\"iso_639_1\":\"ko\",\"file_path\":\"/sYfrqhi11S9GiZdhDgIf0Y17hBH.jpg\",\"vote_average\":0.0,\"vote_count\":0,\"width\":1979},{\"aspect_ratio\":0.698,\"height\":2835,\"iso_639_1\":\"ko\",\"file_path\":\"/vJ5E3nhwV0WM44mCFoRXLvnCmQh.jpg\",\"vote_average\":0.0,\"vote_count\":0,\"width\":1978},{\"aspect_ratio\":0.667,\"height\":750,\"iso_639_1\":\"it\",\"file_path\":\"/1ZoWbowxWxs0W87glE9TNeoVU32.jpg\",\"vote_average\":0.0,\"vote_count\":0,\"width\":500},{\"aspect_ratio\":0.667,\"height\":1500,\"iso_639_1\":\"he\",\"file_path\":\"/mKt6NA4S403dW9x4jxRKAd665wZ.jpg\",\"vote_average\":0.0,\"vote_count\":0,\"width\":1000},{\"aspect_ratio\":0.667,\"height\":1500,\"iso_639_1\":\"he\",\"file_path\":\"/9Frs11cUYipRjfORJwUEW7Ox1Gx.jpg\",\"vote_average\":0.0,\"vote_count\":0,\"width\":1000},{\"aspect_ratio\":0.713,\"height\":2524,\"iso_639_1\":\"de\",\"file_path\":\"/y7uH89VW2hkhsnUr2Bwnc6asHJr.jpg\",\"vote_average\":0.0,\"vote_count\":0,\"width\":1800},{\"aspect_ratio\":0.709,\"height\":1411,\"iso_639_1\":\"de\",\"file_path\":\"/8IFoiStnQN8YDpAP2DUnZWOkZpK.jpg\",\"vote_average\":0.0,\"vote_count\":0,\"width\":1000},{\"aspect_ratio\":0.667,\"height\":3000,\"iso_639_1\":\"es\",\"file_path\":\"/oKu05yrFc61KUvhFrA9JeJuZj5p.jpg\",\"vote_average\":0.0,\"vote_count\":0,\"width\":2000},{\"aspect_ratio\":0.7,\"height\":1426,\"iso_639_1\":\"es\",\"file_path\":\"/l0YVIW5t2q28HCCFw5gC3oQz9ou.jpg\",\"vote_average\":0.0,\"vote_count\":0,\"width\":998},{\"aspect_ratio\":0.666,\"height\":800,\"iso_639_1\":\"el\",\"file_path\":\"/cMHnW1mIYVKPwSwDasfvR6p4AAk.jpg\",\"vote_average\":0.0,\"vote_count\":0,\"width\":533},{\"aspect_ratio\":0.675,\"height\":2048,\"iso_639_1\":\"sk\",\"file_path\":\"/2E4kgyiFxoJffRgicGWeXC6ZByf.jpg\",\"vote_average\":0.0,\"vote_count\":0,\"width\":1382},{\"aspect_ratio\":0.667,\"height\":1500,\"iso_639_1\":\"ja\",\"file_path\":\"/5s5FHTpaCEDqUsM5j9QB0dziddg.jpg\",\"vote_average\":0.0,\"vote_count\":0,\"width\":1000},{\"aspect_ratio\":0.675,\"height\":1200,\"iso_639_1\":\"es\",\"file_path\":\"/n8w2WBa9iFNNvicPeF4repJDq0e.jpg\",\"vote_average\":0.0,\"vote_count\":0,\"width\":810},{\"aspect_ratio\":0.698,\"height\":2835,\"iso_639_1\":\"ko\",\"file_path\":\"/fzvlEXvRnx6Qh6JucLDrV43NDSJ.jpg\",\"vote_average\":0.0,\"vote_count\":0,\"width\":1978},{\"aspect_ratio\":0.708,\"height\":1080,\"iso_639_1\":\"cn\",\"file_path\":\"/g0p2WSKZarA5vApGngqqKjNJWLQ.jpg\",\"vote_average\":0.0,\"vote_count\":0,\"width\":765},{\"aspect_ratio\":0.667,\"height\":1500,\"iso_639_1\":\"he\",\"file_path\":\"/lZZZJFJ8fXhSB4kd9AoCWcf3auF.jpg\",\"vote_average\":0.0,\"vote_count\":0,\"width\":1000},{\"aspect_ratio\":0.684,\"height\":1900,\"iso_639_1\":\"th\",\"file_path\":\"/t3As6kg64f7BlcB5tUgcwhICy2.jpg\",\"vote_average\":0.0,\"vote_count\":0,\"width\":1300},{\"aspect_ratio\":0.667,\"height\":3000,\"iso_639_1\":\"ar\",\"file_path\":\"/8Zhq0uyk9MLaqJNW3EhDHepAFSP.jpg\",\"vote_average\":0.0,\"vote_count\":0,\"width\":2000},{\"aspect_ratio\":0.667,\"height\":3000,\"iso_639_1\":\"ar\",\"file_path\":\"/r2vx0TsICIYnObX5Yq8sgprVytZ.jpg\",\"vote_average\":0.0,\"vote_count\":0,\"width\":2000},{\"aspect_ratio\":0.675,\"height\":1558,\"iso_639_1\":\"lo\",\"file_path\":\"/fVR8LEvQKxcxioor4aE5oYLF7gB.jpg\",\"vote_average\":0.0,\"vote_count\":0,\"width\":1052},{\"aspect_ratio\":0.696,\"height\":2048,\"iso_639_1\":\"th\",\"file_path\":\"/k7iA1MbS84KcPTNHntUg3ZRzLLu.jpg\",\"vote_average\":0.0,\"vote_count\":0,\"width\":1426},{\"aspect_ratio\":0.667,\"height\":3000,\"iso_639_1\":\"de\",\"file_path\":\"/ocDPQqV1Iquk0Hu7MEmlKKEPxAD.jpg\",\"vote_average\":0.0,\"vote_count\":0,\"width\":2000},{\"aspect_ratio\":0.667,\"height\":3000,\"iso_639_1\":\"es\",\"file_path\":\"/2Ll4eLCQBpsgna088wjYgLudrOQ.jpg\",\"vote_average\":0.0,\"vote_count\":0,\"width\":2000},{\"aspect_ratio\":0.667,\"height\":1800,\"iso_639_1\":null,\"file_path\":\"/1ZA4UVs6grYjVXR9WwdlsfndsQK.jpg\",\"vote_average\":0.0,\"vote_count\":0,\"width\":1200},{\"aspect_ratio\":0.707,\"height\":2048,\"iso_639_1\":\"ko\",\"file_path\":\"/sQC0Mf2RbOiUr7wCZwObLmzvdN0.jpg\",\"vote_average\":0.0,\"vote_count\":0,\"width\":1448},{\"aspect_ratio\":0.707,\"height\":2048,\"iso_639_1\":\"ko\",\"file_path\":\"/pl8RJhjLH3TcOZgfS8ipVhU4iKH.jpg\",\"vote_average\":0.0,\"vote_count\":0,\"width\":1448},{\"aspect_ratio\":0.667,\"height\":2250,\"iso_639_1\":\"de\",\"file_path\":\"/jYyCoS57P1WjUoJnYmCpVxEDzNG.jpg\",\"vote_average\":0.0,\"vote_count\":0,\"width\":1500},{\"aspect_ratio\":0.667,\"height\":3000,\"iso_639_1\":\"fa\",\"file_path\":\"/3UJxipw6ZXnD7BvLUAASz55QoGI.jpg\",\"vote_average\":0.0,\"vote_count\":0,\"width\":2000},{\"aspect_ratio\":0.667,\"height\":1500,\"iso_639_1\":\"de\",\"file_path\":\"/fp3CFrt7EuIEhcz1EBD5Ty3szT6.jpg\",\"vote_average\":0.0,\"vote_count\":0,\"width\":1000},{\"aspect_ratio\":0.667,\"height\":750,\"iso_639_1\":\"fr\",\"file_path\":\"/nAVbUsexNqMpoTK73kIw8bS0Gu4.jpg\",\"vote_average\":0.0,\"vote_count\":0,\"width\":500},{\"aspect_ratio\":0.667,\"height\":3000,\"iso_639_1\":\"es\",\"file_path\":\"/jDcaBc54LEXCp7aNB8NwIYvGaDQ.jpg\",\"vote_average\":0.0,\"vote_count\":0,\"width\":2000},{\"aspect_ratio\":0.75,\"height\":800,\"iso_639_1\":null,\"file_path\":\"/aGgB1KJkirXavUh8tA6rSuFp7ke.jpg\",\"vote_average\":0.0,\"vote_count\":0,\"width\":600},{\"aspect_ratio\":0.667,\"height\":1800,\"iso_639_1\":\"en\",\"file_path\":\"/3VofVdbCskAXivF2B7ExN4PFxkF.jpg\",\"vote_average\":0.0,\"vote_count\":0,\"width\":1200},{\"aspect_ratio\":0.667,\"height\":1500,\"iso_639_1\":\"ka\",\"file_path\":\"/tbGOvhw7leMd2DdipMQjk8eFh3d.jpg\",\"vote_average\":0.0,\"vote_count\":0,\"width\":1000},{\"aspect_ratio\":0.667,\"height\":1500,\"iso_639_1\":\"es\",\"file_path\":\"/b3NuCAgZ4lunFpIhM4gneaHP3yW.jpg\",\"vote_average\":0.0,\"vote_count\":0,\"width\":1000},{\"aspect_ratio\":0.667,\"height\":750,\"iso_639_1\":\"en\",\"file_path\":\"/haNvEk70ayaiBBb3QG7Q1hPjQRB.jpg\",\"vote_average\":0.0,\"vote_count\":0,\"width\":500},{\"aspect_ratio\":0.667,\"height\":1500,\"iso_639_1\":\"de\",\"file_path\":\"/8xuy0QUBzqHRdi20LYCqhI8L8cS.jpg\",\"vote_average\":0.0,\"vote_count\":0,\"width\":1000},{\"aspect_ratio\":0.667,\"height\":3000,\"iso_639_1\":\"en\",\"file_path\":\"/1xgiVmybc0JCzu96H0zRN985wTf.jpg\",\"vote_average\":0.0,\"vote_count\":0,\"width\":2000},{\"aspect_ratio\":0.667,\"height\":3000,\"iso_639_1\":\"en\",\"file_path\":\"/moPWhTKnr6k3Qy6rSOSqIIRYRKR.jpg\",\"vote_average\":0.0,\"vote_count\":0,\"width\":2000},{\"aspect_ratio\":0.667,\"height\":750,\"iso_639_1\":\"en\",\"file_path\":\"/dwfe29WfmHvVToNkBPIGGal5qjE.jpg\",\"vote_average\":0.0,\"vote_count\":0,\"width\":500},{\"aspect_ratio\":0.667,\"height\":3000,\"iso_639_1\":\"zh\",\"file_path\":\"/gsj8u1wov0c9pHHX8S9RKZKJHAH.jpg\",\"vote_average\":0.0,\"vote_count\":0,\"width\":2000},{\"aspect_ratio\":0.667,\"height\":3000,\"iso_639_1\":\"en\",\"file_path\":\"/bB8amNskITeNJni0YRReSeWq8W8.jpg\",\"vote_average\":0.0,\"vote_count\":0,\"width\":2000},{\"aspect_ratio\":0.667,\"height\":3000,\"iso_639_1\":\"es\",\"file_path\":\"/dPOJuPyFpPZ8hh5QwnRwBTjYanl.jpg\",\"vote_average\":0.0,\"vote_count\":0,\"width\":2000},{\"aspect_ratio\":0.667,\"height\":1935,\"iso_639_1\":null,\"file_path\":\"/6U9d3Oyk1GuwYZR55p7ijw6otvh.jpg\",\"vote_average\":0.0,\"vote_count\":0,\"width\":1290},{\"aspect_ratio\":0.667,\"height\":1935,\"iso_639_1\":null,\"file_path\":\"/Afnjzpk5zAnoB2DS6ndVduhPWhc.jpg\",\"vote_average\":0.0,\"vote_count\":0,\"width\":1290}]}\n"
     ]
    }
   ],
   "source": [
    "import requests\n",
    "\n",
    "url = \"https://api.themoviedb.org/3/movie/{}/images?api_key=fb47a9a0e7b454d24998042f495d0fe6\".format{movie_id}\n",
    "headers = {\"accept\": \"application/json\"}\n",
    "response = requests.get(url, headers=headers)\n",
    "image_path = \"https://image.tmdb.org/t/p/w500\"+response_json[\"poster_path\"]"
   ]
  },
  {
   "cell_type": "code",
   "execution_count": 31,
   "id": "643dcc63-96e7-4e23-9a05-f6b900413c36",
   "metadata": {},
   "outputs": [],
   "source": [
    "import requests\n",
    "import json\n",
    "url = \"https://api.themoviedb.org/3/movie/19995?api_key=fb47a9a0e7b454d24998042f495d0fe6&language=en-US\"\n",
    "\n",
    "headers = {\"accept\": \"application/json\"}\n",
    "\n",
    "response = requests.get(url, headers=headers)\n",
    "response_json = json.loads(response.text)\n"
   ]
  },
  {
   "cell_type": "code",
   "execution_count": 32,
   "id": "b1faa469-6ccb-45fa-a20d-be50486f0b8b",
   "metadata": {},
   "outputs": [
    {
     "data": {
      "text/plain": [
       "{'adult': False,\n",
       " 'backdrop_path': '/vL5LR6WdxWPjLPFRLe133jXWsh5.jpg',\n",
       " 'belongs_to_collection': {'id': 87096,\n",
       "  'name': 'Avatar Collection',\n",
       "  'poster_path': '/uO2yU3QiGHvVp0L5e5IatTVRkYk.jpg',\n",
       "  'backdrop_path': '/gxnvX9kF7RRUQYvB52dMLPgeJkt.jpg'},\n",
       " 'budget': 237000000,\n",
       " 'genres': [{'id': 28, 'name': 'Action'},\n",
       "  {'id': 12, 'name': 'Adventure'},\n",
       "  {'id': 14, 'name': 'Fantasy'},\n",
       "  {'id': 878, 'name': 'Science Fiction'}],\n",
       " 'homepage': 'https://www.avatar.com/movies/avatar',\n",
       " 'id': 19995,\n",
       " 'imdb_id': 'tt0499549',\n",
       " 'origin_country': ['US'],\n",
       " 'original_language': 'en',\n",
       " 'original_title': 'Avatar',\n",
       " 'overview': 'In the 22nd century, a paraplegic Marine is dispatched to the moon Pandora on a unique mission, but becomes torn between following orders and protecting an alien civilization.',\n",
       " 'popularity': 146.263,\n",
       " 'poster_path': '/kyeqWdyUXW608qlYkRqosgbbJyK.jpg',\n",
       " 'production_companies': [{'id': 444,\n",
       "   'logo_path': None,\n",
       "   'name': 'Dune Entertainment',\n",
       "   'origin_country': 'US'},\n",
       "  {'id': 574,\n",
       "   'logo_path': '/nLNW1TeFUYU0M5U0qmYUzOIwlB6.png',\n",
       "   'name': 'Lightstorm Entertainment',\n",
       "   'origin_country': 'US'},\n",
       "  {'id': 25,\n",
       "   'logo_path': '/qZCc1lty5FzX30aOCVRBLzaVmcp.png',\n",
       "   'name': '20th Century Fox',\n",
       "   'origin_country': 'US'},\n",
       "  {'id': 290,\n",
       "   'logo_path': '/jrgCuaQsY9ouP5ILZf4Dq4ZOkIX.png',\n",
       "   'name': 'Ingenious Media',\n",
       "   'origin_country': 'GB'}],\n",
       " 'production_countries': [{'iso_3166_1': 'US',\n",
       "   'name': 'United States of America'},\n",
       "  {'iso_3166_1': 'GB', 'name': 'United Kingdom'}],\n",
       " 'release_date': '2009-12-15',\n",
       " 'revenue': 2923706026,\n",
       " 'runtime': 162,\n",
       " 'spoken_languages': [{'english_name': 'English',\n",
       "   'iso_639_1': 'en',\n",
       "   'name': 'English'},\n",
       "  {'english_name': 'Spanish', 'iso_639_1': 'es', 'name': 'Español'}],\n",
       " 'status': 'Released',\n",
       " 'tagline': 'Enter the world of Pandora.',\n",
       " 'title': 'Avatar',\n",
       " 'video': False,\n",
       " 'vote_average': 7.582,\n",
       " 'vote_count': 31196}"
      ]
     },
     "execution_count": 32,
     "metadata": {},
     "output_type": "execute_result"
    }
   ],
   "source": [
    "response_json"
   ]
  },
  {
   "cell_type": "code",
   "execution_count": 24,
   "id": "16849f4d-d710-48a2-9c7c-4147339eea80",
   "metadata": {},
   "outputs": [
    {
     "ename": "KeyError",
     "evalue": "'poster_path'",
     "output_type": "error",
     "traceback": [
      "\u001b[1;31m---------------------------------------------------------------------------\u001b[0m",
      "\u001b[1;31mKeyError\u001b[0m                                  Traceback (most recent call last)",
      "Cell \u001b[1;32mIn[24], line 1\u001b[0m\n\u001b[1;32m----> 1\u001b[0m \u001b[43mresponse_json\u001b[49m\u001b[43m[\u001b[49m\u001b[38;5;124;43m\"\u001b[39;49m\u001b[38;5;124;43mposter_path\u001b[39;49m\u001b[38;5;124;43m\"\u001b[39;49m\u001b[43m]\u001b[49m\n",
      "\u001b[1;31mKeyError\u001b[0m: 'poster_path'"
     ]
    }
   ],
   "source": [
    "response_json[\"poster_path\"]"
   ]
  },
  {
   "cell_type": "code",
   "execution_count": 34,
   "id": "c5a5f4a8-f266-491b-8b07-cfccdf40f5c3",
   "metadata": {},
   "outputs": [
    {
     "data": {
      "text/plain": [
       "'https://image.tmdb.org/t/p/w500/kyeqWdyUXW608qlYkRqosgbbJyK.jpg'"
      ]
     },
     "execution_count": 34,
     "metadata": {},
     "output_type": "execute_result"
    }
   ],
   "source": [
    "\n",
    "image_path"
   ]
  },
  {
   "cell_type": "code",
   "execution_count": null,
   "id": "90840f4d-5aab-4b14-9e29-097de71d024f",
   "metadata": {},
   "outputs": [],
   "source": []
  }
 ],
 "metadata": {
  "kernelspec": {
   "display_name": "Python 3 (ipykernel)",
   "language": "python",
   "name": "python3"
  },
  "language_info": {
   "codemirror_mode": {
    "name": "ipython",
    "version": 3
   },
   "file_extension": ".py",
   "mimetype": "text/x-python",
   "name": "python",
   "nbconvert_exporter": "python",
   "pygments_lexer": "ipython3",
   "version": "3.11.0"
  }
 },
 "nbformat": 4,
 "nbformat_minor": 5
}
